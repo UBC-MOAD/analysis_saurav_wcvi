{
 "cells": [
  {
   "cell_type": "code",
   "execution_count": 11,
   "metadata": {
    "collapsed": true
   },
   "outputs": [],
   "source": [
    "%matplotlib inline\n",
    "import matplotlib.pyplot as plt\n",
    "import numpy as np\n",
    "import netCDF4 as nc\n",
    "from scipy.interpolate import interp1d\n",
    "from salishsea_tools import (nc_tools, gsw_calls, geo_tools)\n",
    "import seabird"
   ]
  },
  {
   "cell_type": "code",
   "execution_count": 2,
   "metadata": {
    "collapsed": false
   },
   "outputs": [
    {
     "name": "stderr",
     "output_type": "stream",
     "text": [
      "DEBUG:root:Openning file: /ocean/sallen/allen/research/Falkor/5_bin/FK009A_CTD002_20130819.cnv\n",
      "WARNING:root:It was supposed to has 24 variables.\n"
     ]
    }
   ],
   "source": [
    "from seabird.cnv import fCNV\n",
    "profile = fCNV('/ocean/sallen/allen/research/Falkor/5_bin/FK009A_CTD002_20130819.cnv')"
   ]
  },
  {
   "cell_type": "code",
   "execution_count": 3,
   "metadata": {
    "collapsed": false
   },
   "outputs": [
    {
     "data": {
      "text/plain": [
       "['LATITUDE',\n",
       " 'LONGITUDE',\n",
       " 'timeQ',\n",
       " 'PRES',\n",
       " 'TEMP',\n",
       " 'TEMP2',\n",
       " 'CNDC',\n",
       " 'CNDC2',\n",
       " 'PSAL',\n",
       " 'PSAL2',\n",
       " 'oxigen_ml_L',\n",
       " 'oxigenvoltage',\n",
       " 'flECO-AFL',\n",
       " 'turbWETntu0',\n",
       " 'CStarTr0',\n",
       " 'PSAL',\n",
       " 'PSAL2',\n",
       " 'potemperature',\n",
       " 'potemperature2',\n",
       " 'sigma-�00',\n",
       " 'sigma-�11',\n",
       " 'oxigen_ml_L',\n",
       " 'nbin',\n",
       " 'flag',\n",
       " 'timeS']"
      ]
     },
     "execution_count": 3,
     "metadata": {},
     "output_type": "execute_result"
    }
   ],
   "source": [
    "profile.keys()"
   ]
  },
  {
   "cell_type": "code",
   "execution_count": 7,
   "metadata": {
    "collapsed": true
   },
   "outputs": [],
   "source": [
    "pressure = profile['PRES'][:]\n",
    "PT = profile['potemperature'][:]\n",
    "T = profile['TEMP'][:]\n",
    "SP = profile['PSAL'][:]\n",
    "lat = profile['LATITUDE'][:]\n",
    "lon = profile['LONGITUDE'][:]"
   ]
  },
  {
   "cell_type": "code",
   "execution_count": 12,
   "metadata": {
    "collapsed": false
   },
   "outputs": [],
   "source": [
    "bathy = nc.Dataset('/data/mdunphy/NEP036-N30-OUT/INV/Bathymetry_EastCoast_NEMO_R036_GEBCO_corr_v14.nc')\n",
    "\n",
    "Z = bathy.variables['Bathymetry'][:]\n",
    "\n",
    "zlevels = nc.Dataset('/data/mdunphy/NEP036-N30-OUT/CDF_COMB_COMPRESSED/NEP036-N30_IN_20140915_00001440_grid_T.nc').variables['deptht']\n",
    "\n",
    "\n",
    "# grid = nc.Dataset('/ocean/ssahu/CANYONS/wcvi/grid/coordinates_NEMO/coordinates_westcoast_seagrid_high_resolution_truncated_wider_west_bdy.nc')\n",
    "\n",
    "\n",
    "lon_model = bathy['nav_lon'][...]\n",
    "lat_model = bathy['nav_lat'][...]"
   ]
  },
  {
   "cell_type": "code",
   "execution_count": 8,
   "metadata": {
    "collapsed": false
   },
   "outputs": [
    {
     "data": {
      "text/plain": [
       "masked_array(data = [-124.68512 -124.68512 -124.68512 -124.68511 -124.68512 -124.68511\n",
       " -124.68511 -124.68512 -124.68512 -124.68512 -124.6851  -124.68512\n",
       " -124.68512 -124.68511 -124.68512 -124.68512 -124.68512 -124.68512\n",
       " -124.68512 -124.68512 -124.68513 -124.68512 -124.68512 -124.68514\n",
       " -124.68512 -124.68512 -124.68514 -124.68514 -124.68512 -124.68512\n",
       " -124.68513 -124.68514 -124.68512 -124.68513 -124.68514 -124.68514\n",
       " -124.68512 -124.68513 -124.68514 -124.68512 -124.68512 -124.68512\n",
       " -124.68512 -124.68512 -124.68512 -124.68512 -124.68512 -124.68512\n",
       " -124.68512 -124.68512 -124.68512 -124.68512 -124.68512 -124.68512\n",
       " -124.68512 -124.68512 -124.68512 -124.68512 -124.68512 -124.68513\n",
       " -124.68514 -124.68513 -124.68512 -124.68513 -124.68514 -124.68514\n",
       " -124.68514 -124.68514 -124.68514 -124.68514 -124.68514 -124.68514\n",
       " -124.68515 -124.68516 -124.68514 -124.68514 -124.68516 -124.68516\n",
       " -124.68516 -124.68516 -124.68516 -124.68516 -124.68516 -124.68516\n",
       " -124.68516 -124.68516 -124.68517 -124.68518 -124.68516 -124.68516\n",
       " -124.68518 -124.68518 -124.68518 -124.68518 -124.68518 -124.68518\n",
       " -124.68518 -124.68518 -124.68518 -124.68518 -124.68518 -124.68518\n",
       " -124.68518 -124.68519 -124.6852  -124.6852  -124.6852  -124.68521\n",
       " -124.68521 -124.6852  -124.6852  -124.6852  -124.6852  -124.68522\n",
       " -124.68522 -124.68522 -124.68522 -124.68522 -124.68522 -124.68522\n",
       " -124.68522 -124.68522 -124.68522 -124.68522 -124.68524 -124.68524\n",
       " -124.68524 -124.68524 -124.68524 -124.68523 -124.68522 -124.68522\n",
       " -124.68524 -124.68524 -124.68524 -124.68524 -124.68524 -124.68524\n",
       " -124.68524 -124.68524 -124.68524 -124.68524 -124.68525 -124.68526\n",
       " -124.68526 -124.68526 -124.68526 -124.68526 -124.68526 -124.68525\n",
       " -124.68526 -124.68526 -124.68526 -124.68526 -124.68526 -124.68526\n",
       " -124.68526 -124.68526 -124.68526 -124.68526 -124.68526 -124.68526\n",
       " -124.68526 -124.68526 -124.68526 -124.68526 -124.68527 -124.68528\n",
       " -124.68528 -124.68528 -124.68528 -124.68528 -124.68528 -124.68528\n",
       " -124.68528 -124.68528 -124.68528 -124.68528 -124.68528 -124.68528\n",
       " -124.68528 -124.68528 -124.68528 -124.68528 -124.68528 -124.68528\n",
       " -124.68528 -124.68528 -124.68528 -124.68528 -124.68528 -124.68528\n",
       " -124.68528 -124.68528 -124.68528 -124.68529 -124.6853  -124.6853  -124.6853\n",
       " -124.68528 -124.68528 -124.68528 -124.68528 -124.68529 -124.6853  -124.6853\n",
       " -124.6853  -124.6853  -124.6853  -124.68528 -124.68528 -124.6853  -124.6853\n",
       " -124.6853  -124.6853  -124.6853  -124.6853  -124.68529 -124.6853  -124.6853\n",
       " -124.6853  -124.6853  -124.6853  -124.6853  -124.6853  -124.6853  -124.6853\n",
       " -124.6853  -124.6853  -124.6853  -124.6853  -124.6853  -124.6853  -124.6853\n",
       " -124.6853  -124.6853  -124.6853  -124.6853  -124.6853  -124.6853  -124.6853\n",
       " -124.6853  -124.6853  -124.6853  -124.6853  -124.6853  -124.6853  -124.6853\n",
       " -124.68528 -124.68528 -124.68528 -124.68528],\n",
       "             mask = False,\n",
       "       fill_value = -9.99e-29)"
      ]
     },
     "execution_count": 8,
     "metadata": {},
     "output_type": "execute_result"
    }
   ],
   "source": [
    "j, i = geo_tools.find_closest_model_point(\n",
    "           -124.68511,49.2,model_lons,model_lats,land_mask=bathy.mask)"
   ]
  },
  {
   "cell_type": "code",
   "execution_count": null,
   "metadata": {
    "collapsed": true
   },
   "outputs": [],
   "source": []
  }
 ],
 "metadata": {
  "kernelspec": {
   "display_name": "Python [conda root]",
   "language": "python",
   "name": "conda-root-py"
  },
  "language_info": {
   "codemirror_mode": {
    "name": "ipython",
    "version": 3
   },
   "file_extension": ".py",
   "mimetype": "text/x-python",
   "name": "python",
   "nbconvert_exporter": "python",
   "pygments_lexer": "ipython3",
   "version": "3.5.2"
  }
 },
 "nbformat": 4,
 "nbformat_minor": 1
}
