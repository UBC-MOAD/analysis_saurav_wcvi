{
 "cells": [
  {
   "cell_type": "code",
   "execution_count": 3,
   "metadata": {
    "collapsed": false
   },
   "outputs": [],
   "source": [
    "import matplotlib.pyplot as plt\n",
    "import numpy as np\n",
    "import numpy.ma as ma\n",
    "import netCDF4 as nc\n",
    "import cmocean.cm as cm \n",
    "from IPython.display import display, Math, Latex\n",
    "import matplotlib.gridspec as gridspec\n",
    "import matplotlib.dates as mdates\n",
    "from scipy.io import loadmat\n",
    "from scipy.interpolate import griddata\n",
    "from dateutil.parser import parse\n",
    "from salishsea_tools import geo_tools, viz_tools, tidetools, nc_tools\n",
    "import xarray as xr\n",
    "import gsw\n",
    "\n",
    "%matplotlib inline"
   ]
  },
  {
   "cell_type": "code",
   "execution_count": 4,
   "metadata": {
    "collapsed": false
   },
   "outputs": [],
   "source": [
    "fname = '/ocean/ssahu/CANYONS/wcvi/initial_conditions/West_coast_NEMO_IC_high_resolution_wide_bdy.nc'\n",
    "\n",
    "gridT = xr.open_dataset(fname)"
   ]
  },
  {
   "cell_type": "code",
   "execution_count": 5,
   "metadata": {
    "collapsed": false
   },
   "outputs": [],
   "source": [
    "lats = gridT['nav_lat'][:]\n",
    "lons = gridT['nav_lon'][:]\n",
    "sal = gridT['vosaline'][0,...]\n",
    "temp = gridT['votemper'][0,...]\n",
    "zlevels = gridT['deptht'][:]\n",
    "z = np.multiply(zlevels[:],-1)"
   ]
  },
  {
   "cell_type": "code",
   "execution_count": 6,
   "metadata": {
    "collapsed": false
   },
   "outputs": [],
   "source": [
    "pressure = gsw.p_from_z(z, np.mean(lats))"
   ]
  },
  {
   "cell_type": "code",
   "execution_count": 7,
   "metadata": {
    "collapsed": false
   },
   "outputs": [
    {
     "data": {
      "text/plain": [
       "(40,)"
      ]
     },
     "execution_count": 7,
     "metadata": {},
     "output_type": "execute_result"
    }
   ],
   "source": [
    "pressure.shape"
   ]
  },
  {
   "cell_type": "code",
   "execution_count": null,
   "metadata": {
    "collapsed": false
   },
   "outputs": [],
   "source": [
    "sal.shape"
   ]
  },
  {
   "cell_type": "code",
   "execution_count": 9,
   "metadata": {
    "collapsed": false
   },
   "outputs": [
    {
     "name": "stderr",
     "output_type": "stream",
     "text": [
      "/home/ssahu/anaconda3/lib/python3.5/site-packages/ipykernel/__main__.py:5: RuntimeWarning: invalid value encountered in sqrt\n"
     ]
    }
   ],
   "source": [
    "N2 = np.empty_like(sal)\n",
    "\n",
    "(N2, p_mid) = gsw.stability.Nsquared(sal, temp, pressure_input, lat=None, axis=0)\n",
    "\n",
    "N = np.sqrt(N2)"
   ]
  },
  {
   "cell_type": "code",
   "execution_count": null,
   "metadata": {
    "collapsed": false
   },
   "outputs": [],
   "source": [
    "N2.shape"
   ]
  },
  {
   "cell_type": "code",
   "execution_count": null,
   "metadata": {
    "collapsed": false
   },
   "outputs": [],
   "source": [
    "np.nanmean(N2)"
   ]
  },
  {
   "cell_type": "code",
   "execution_count": null,
   "metadata": {
    "collapsed": false
   },
   "outputs": [],
   "source": []
  },
  {
   "cell_type": "code",
   "execution_count": null,
   "metadata": {
    "collapsed": false
   },
   "outputs": [],
   "source": [
    "np.mean(N_sqr)"
   ]
  },
  {
   "cell_type": "code",
   "execution_count": 8,
   "metadata": {
    "collapsed": false
   },
   "outputs": [],
   "source": [
    "pressure_input=np.zeros_like(sal)\n",
    "\n",
    "for i in np.arange(pressure_input.shape[0]):\n",
    "    for j in np.arange(pressure_input.shape[1]):\n",
    "        for k in np.arange(pressure_input.shape[2]):\n",
    "            pressure_input[i,j,k] = pressure[i]"
   ]
  },
  {
   "cell_type": "code",
   "execution_count": null,
   "metadata": {
    "collapsed": false
   },
   "outputs": [],
   "source": [
    "np.mean(lats)"
   ]
  },
  {
   "cell_type": "code",
   "execution_count": null,
   "metadata": {
    "collapsed": false
   },
   "outputs": [],
   "source": [
    "pressure_input"
   ]
  },
  {
   "cell_type": "code",
   "execution_count": null,
   "metadata": {
    "collapsed": false
   },
   "outputs": [],
   "source": [
    "pressure"
   ]
  },
  {
   "cell_type": "code",
   "execution_count": null,
   "metadata": {
    "collapsed": false
   },
   "outputs": [],
   "source": [
    "lats.shape"
   ]
  },
  {
   "cell_type": "code",
   "execution_count": null,
   "metadata": {
    "collapsed": false
   },
   "outputs": [],
   "source": [
    "zlevels"
   ]
  },
  {
   "cell_type": "code",
   "execution_count": null,
   "metadata": {
    "collapsed": false
   },
   "outputs": [],
   "source": [
    "N.shape"
   ]
  },
  {
   "cell_type": "code",
   "execution_count": null,
   "metadata": {
    "collapsed": false
   },
   "outputs": [],
   "source": [
    "np.nanmax(N)"
   ]
  },
  {
   "cell_type": "code",
   "execution_count": null,
   "metadata": {
    "collapsed": false
   },
   "outputs": [],
   "source": [
    "np.nanmin(N)"
   ]
  },
  {
   "cell_type": "code",
   "execution_count": null,
   "metadata": {
    "collapsed": false
   },
   "outputs": [],
   "source": [
    "np.where(np.nanmax(N[0,0,:]))"
   ]
  },
  {
   "cell_type": "code",
   "execution_count": 8,
   "metadata": {
    "collapsed": false
   },
   "outputs": [
    {
     "name": "stderr",
     "output_type": "stream",
     "text": [
      "/home/ssahu/anaconda3/lib/python3.5/site-packages/numpy/ma/core.py:2344: RuntimeWarning: invalid value encountered in less_equal\n",
      "  mabs(xnew - value), atol + rtol * mabs(value))\n"
     ]
    },
    {
     "data": {
      "text/plain": [
       "<matplotlib.contour.QuadContourSet at 0x7f478d67c550>"
      ]
     },
     "execution_count": 8,
     "metadata": {},
     "output_type": "execute_result"
    },
    {
     "name": "stderr",
     "output_type": "stream",
     "text": [
      "/home/ssahu/anaconda3/lib/python3.5/site-packages/matplotlib/colors.py:496: RuntimeWarning: invalid value encountered in less\n",
      "  cbook._putmask(xa, xa < 0.0, -1)\n"
     ]
    },
    {
     "data": {
      "image/png": "[encoded data removed]",
      "text/plain": [
       "<matplotlib.figure.Figure at 0x7f478d9cb3c8>"
      ]
     },
     "metadata": {},
     "output_type": "display_data"
    }
   ],
   "source": [
    "bathy = '/ocean/ssahu/CANYONS/wcvi/grid/bathy_meter.nc'\n",
    "\n",
    "N0 = np.ma.masked_values(N[0,...], 0)  #for higher accuracy masking should always be done from bathymetry and not from ssh data\n",
    "fig, ax = plt.subplots(1, 1, figsize=(10, 8))\n",
    "viz_tools.set_aspect(ax)\n",
    "mesh = ax.pcolormesh(N0)\n",
    "cmap = plt.get_cmap(cm.deep_r)\n",
    "cmap.set_bad('burlywood')\n",
    "viz_tools.set_aspect(ax)\n",
    "mesh = ax.pcolormesh(N0, cmap=cmap, vmin = 0, vmax = 0.035789498226021829)\n",
    "cbar = fig.colorbar(mesh)\n",
    "viz_tools.plot_land_mask(ax, bathy, color='burlywood')\n",
    "# cbar.set_label('Sea surface height (in m)')"
   ]
  },
  {
   "cell_type": "code",
   "execution_count": 9,
   "metadata": {
    "collapsed": false
   },
   "outputs": [
    {
     "name": "stderr",
     "output_type": "stream",
     "text": [
      "/home/ssahu/anaconda3/lib/python3.5/site-packages/numpy/ma/core.py:2344: RuntimeWarning: invalid value encountered in less_equal\n",
      "  mabs(xnew - value), atol + rtol * mabs(value))\n"
     ]
    },
    {
     "data": {
      "text/plain": [
       "<matplotlib.contour.QuadContourSet at 0x7f478c537da0>"
      ]
     },
     "execution_count": 9,
     "metadata": {},
     "output_type": "execute_result"
    },
    {
     "name": "stderr",
     "output_type": "stream",
     "text": [
      "/home/ssahu/anaconda3/lib/python3.5/site-packages/matplotlib/colors.py:496: RuntimeWarning: invalid value encountered in less\n",
      "  cbook._putmask(xa, xa < 0.0, -1)\n"
     ]
    },
    {
     "data": {
      "image/png": "[encoded data removed]",
      "text/plain": [
       "<matplotlib.figure.Figure at 0x7f478d657940>"
      ]
     },
     "metadata": {},
     "output_type": "display_data"
    }
   ],
   "source": [
    "bathy = '/ocean/ssahu/CANYONS/wcvi/grid/bathy_meter.nc'\n",
    "\n",
    "N0 = np.ma.masked_values(N[10,...], 0)  #for higher accuracy masking should always be done from bathymetry and not from ssh data\n",
    "fig, ax = plt.subplots(1, 1, figsize=(10, 8))\n",
    "viz_tools.set_aspect(ax)\n",
    "mesh = ax.pcolormesh(N0)\n",
    "cmap = plt.get_cmap(cm.deep_r)\n",
    "cmap.set_bad('burlywood')\n",
    "viz_tools.set_aspect(ax)\n",
    "mesh = ax.pcolormesh(N0, cmap=cmap, vmin = 0, vmax = 0.035789498226021829)\n",
    "cbar = fig.colorbar(mesh)\n",
    "viz_tools.plot_land_mask(ax, bathy, color='burlywood')\n",
    "# cbar.set_label('Sea surface height (in m)')"
   ]
  },
  {
   "cell_type": "code",
   "execution_count": 19,
   "metadata": {
    "collapsed": false
   },
   "outputs": [
    {
     "name": "stdout",
     "output_type": "stream",
     "text": [
      "Removing Nan values from JP's data, since we replaced the zero masks with Nans\n"
     ]
    }
   ],
   "source": [
    "import numpy as np\n",
    "import netCDF4 as nc\n",
    "import xarray as xr\n",
    "from scipy.interpolate import griddata, interp1d\n",
    "from salishsea_tools import (nc_tools, gsw_calls,viz_tools)\n",
    "# import matplotlib.pyplot as plt\n",
    "# import matplotlib.cm as cm\n",
    "\n",
    "fname = '/home/ssahu/saurav/JP_BC/cat_42_days_T.nc'\n",
    "\n",
    "gridT = xr.open_dataset(fname)\n",
    "\n",
    "mask = nc.Dataset('/ocean/ssahu/CANYONS/wcvi/grid/meshmask_files/JP_mesh_mask.nc')\n",
    "\n",
    "tmask_JP = mask.variables['tmask'][0,:,55:420,446:730]\n",
    "\n",
    "votemper_JP = np.array(gridT['votemper'][1,:,55:420,446:730]) #Our 1st day of NEMO run (set in namelist and atmos files from that day)  is second day of data which starts from beginning of month\n",
    "votemper_JP[...] = np.ma.masked_array(votemper_JP[...], mask = tmask_JP[...])\n",
    "votemper_JP[votemper_JP == 0] =['Nan']\n",
    "\n",
    "vosaline_JP = np.array(gridT['vosaline'][1,:,55:420,446:730])\n",
    "vosaline_JP[...] = np.ma.masked_array(vosaline_JP[...], mask = tmask_JP[...])\n",
    "vosaline_JP[vosaline_JP == 0] = ['Nan']\n",
    "\n",
    "glamt_bc_JP = np.array(gridT['nav_lon'][55:420,446:730])\n",
    "gphit_bc_JP = np.array(gridT['nav_lat'][55:420,446:730])\n",
    "deptht_JP = np.array(gridT['deptht'][:])\n",
    "\n",
    "print(\"Removing Nan values from JP's data, since we replaced the zero masks with Nans\")\n"
   ]
  },
  {
   "cell_type": "code",
   "execution_count": 20,
   "metadata": {
    "collapsed": true
   },
   "outputs": [],
   "source": [
    "for i in np.arange(1,votemper_JP.shape[0]):\n",
    "    for p in np.arange(votemper_JP.shape[1]):\n",
    "        for l in np.arange(votemper_JP.shape[2]):\n",
    "            if np.isnan(votemper_JP[i,p,l]):\n",
    "                votemper_JP[i,p,l] = votemper_JP[i-1,p,l]\n",
    "            else:\n",
    "                continue\n",
    "\n",
    "\n",
    "for i in np.arange(1,vosaline_JP.shape[0]):\n",
    "    for p in np.arange(vosaline_JP.shape[1]):\n",
    "        for l in np.arange(vosaline_JP.shape[2]):\n",
    "            if np.isnan(vosaline_JP[i,p,l]):\n",
    "                vosaline_JP[i,p,l] = vosaline_JP[i-1,p,l]\n",
    "            else:\n",
    "                continue\n",
    "                \n",
    "                \n",
    "for i in np.arange(votemper_JP.shape[0]):\n",
    "    for p in np.arange(votemper_JP.shape[1]):\n",
    "        for l in np.arange(votemper_JP.shape[2]):\n",
    "            if np.isnan(votemper_JP[i,p,l]):\n",
    "                votemper_JP[i,p,l] = votemper_JP[i,p,l-1]\n",
    "            else:\n",
    "                continue\n",
    "\n",
    "\n",
    "for i in np.arange(vosaline_JP.shape[0]):\n",
    "    for p in np.arange(vosaline_JP.shape[1]):\n",
    "        for l in np.arange(vosaline_JP.shape[2]):\n",
    "            if np.isnan(vosaline_JP[i,p,l]):\n",
    "                vosaline_JP[i,p,l] = vosaline_JP[i,p,l-1]\n",
    "            else:\n",
    "                continue\n",
    "                \n",
    "for i in np.arange(vosaline_JP.shape[1]):\n",
    "    for j in np.arange(vosaline_JP.shape[2]):\n",
    "        if np.isnan(vosaline_JP[0,i,j]):\n",
    "            vosaline_JP[0,i,j] = vosaline_JP[1,i,j]\n",
    "        else:\n",
    "            continue\n",
    "            \n",
    "            \n",
    "for i in np.arange(votemper_JP.shape[1]):\n",
    "    for j in np.arange(votemper_JP.shape[2]):\n",
    "        if np.isnan(votemper_JP[0,i,j]):\n",
    "            votemper_JP[0,i,j] = votemper_JP[1,i,j]\n",
    "        else:\n",
    "            continue"
   ]
  },
  {
   "cell_type": "code",
   "execution_count": 21,
   "metadata": {
    "collapsed": false
   },
   "outputs": [
    {
     "name": "stdout",
     "output_type": "stream",
     "text": [
      "Interpolation to WCVI horizontal points successful\n"
     ]
    }
   ],
   "source": [
    "fname_wcvi = '/ocean/ssahu/CANYONS/wcvi/grid/coordinates_NEMO/coordinates_westcoast_seagrid_high_resolution_truncated_wider_west_bdy.nc'\n",
    "\n",
    "with nc.Dataset(fname_wcvi, 'r') as coord:\n",
    "    gphit_wcvi = coord.variables['gphit'][0,...];\n",
    "    glamt_wcvi =  coord.variables['glamt'][0,...];\n",
    "\n",
    "X = glamt_bc_JP.flatten();\n",
    "\n",
    "Y = gphit_bc_JP.flatten();\n",
    "\n",
    "points = (X[:],Y[:]);\n",
    "\n",
    "xi = (glamt_wcvi.flatten(), gphit_wcvi.flatten());\n",
    "\n",
    "votemper_ic = np.empty((votemper_JP.shape[0], glamt_wcvi.shape[0], glamt_wcvi.shape[1]));\n",
    "vosaline_ic = np.empty((vosaline_JP.shape[0], glamt_wcvi.shape[0], glamt_wcvi.shape[1]));\n",
    "\n",
    "for i in np.arange(votemper_JP.shape[0]):\n",
    "    votemper_ic[i,...] = np.reshape(griddata(points, votemper_JP[i,...].flatten(), xi, method= 'linear'), glamt_wcvi.shape)\n",
    "    vosaline_ic[i,...] = np.reshape(griddata(points, vosaline_JP[i,...].flatten(), xi, method= 'linear'), glamt_wcvi.shape)\n",
    "\n",
    "\n",
    "\n",
    "print(\"Interpolation to WCVI horizontal points successful\")"
   ]
  },
  {
   "cell_type": "code",
   "execution_count": 22,
   "metadata": {
    "collapsed": false
   },
   "outputs": [
    {
     "name": "stdout",
     "output_type": "stream",
     "text": [
      "Interpolation to WCVI horizontal points successful\n",
      "Calling GSW tools to convert to Conservative Temperature and Reference Salinity\n",
      "Converted z to p: first GSW call successful\n",
      "Got SA from SP: GSW ran successfully inside loop\n"
     ]
    }
   ],
   "source": [
    "print(\"Interpolation to WCVI horizontal points successful\")\n",
    "\n",
    "print(\"Calling GSW tools to convert to Conservative Temperature and Reference Salinity\")\n",
    "\n",
    "\n",
    "lat = np.empty_like(gphit_wcvi)\n",
    "lon = np.empty_like(gphit_wcvi)\n",
    "depth = np.empty_like(deptht_JP)\n",
    "\n",
    "lat[:] = gphit_wcvi[:]\n",
    "lon[:] = glamt_wcvi[:]\n",
    "\n",
    "depth[:] = deptht_JP[:]\n",
    "\n",
    "z = np.multiply(depth[:],-1)\n",
    "\n",
    "votemper_PT = np.empty_like(votemper_ic)\n",
    "vosaline_PSU =np.empty_like(vosaline_ic)  \n",
    "\n",
    " \n",
    "votemper_PT[:] = votemper_ic[:] \n",
    "vosaline_PSU[:] = vosaline_ic[:]\n",
    "\n",
    "pressure = np.empty(z.shape)\n",
    "lats = np.empty(pressure.shape)\n",
    "lons = np.empty(pressure.shape)\n",
    "lats[:] = np.mean(lat)\n",
    "lons[:] = np.mean(lon)\n",
    "\n",
    "\n",
    "vosaline_SA = np.empty(vosaline_PSU.shape)\n",
    "vosaline_RS = np.empty(vosaline_PSU.shape)\n",
    "votemper_CT = np.empty(votemper_PT.shape)\n",
    "\n",
    "pressure = gsw_calls.generic_gsw_caller('gsw_p_from_z.m', [z, np.mean(lat)])\n",
    "\n",
    "print(\"Converted z to p: first GSW call successful\")\n",
    "\n",
    "for i in np.arange(vosaline_SA.shape[0]):\n",
    "    vosaline_SA[i,...] = gsw_calls.generic_gsw_caller('gsw_SA_from_SP', [vosaline_PSU[i,...],pressure[i],lons[i],lats[i]])\n",
    "\n",
    "print(\"Got SA from SP: GSW ran successfully inside loop\")"
   ]
  },
  {
   "cell_type": "code",
   "execution_count": 23,
   "metadata": {
    "collapsed": false
   },
   "outputs": [
    {
     "name": "stdout",
     "output_type": "stream",
     "text": [
      "GSW Calls successfull\n",
      "Vertical Interpolation to WCVI depth levels successful\n"
     ]
    }
   ],
   "source": [
    "votemper_CT[:] = gsw_calls.generic_gsw_caller('gsw_CT_from_pt', [vosaline_SA[:], votemper_PT[:]])\n",
    "\n",
    "\n",
    "print(\"GSW Calls successfull\")\n",
    "\n",
    "mask_wcvi = nc.Dataset('/ocean/ssahu/CANYONS/wcvi/grid/meshmask_files/mesh_mask_high_res.nc')\n",
    "\n",
    "NEMO_depth = mask_wcvi.variables['gdept_0'][0,:,0,0]\n",
    "tmask_WCVI = mask_wcvi.variables['tmask'][:]\n",
    "\n",
    "\n",
    "salinity_function = interp1d(depth, vosaline_SA, axis = 0, bounds_error=False, fill_value='extrapolate')\n",
    "temperature_function = interp1d(depth, votemper_CT, axis = 0, bounds_error=False, fill_value='extrapolate')\n",
    "\n",
    "vosaline_NEMO = np.empty((NEMO_depth.shape[0], vosaline_RS.shape[1], vosaline_RS.shape[2]));\n",
    "votemper_NEMO = np.empty((NEMO_depth.shape[0], vosaline_RS.shape[1], vosaline_RS.shape[2]));\n",
    "\n",
    "for indx in np.arange(NEMO_depth.shape[0]):\n",
    "    vosaline_NEMO[indx,...] = salinity_function(NEMO_depth[indx]);\n",
    "    votemper_NEMO[indx,...] = temperature_function(NEMO_depth[indx]);\n",
    "\n",
    "for i in np.arange(votemper_NEMO.shape[0]):\n",
    "    for p in np.arange(votemper_NEMO.shape[1]):\n",
    "        for l in np.arange(votemper_NEMO.shape[2]):\n",
    "            if np.isnan(votemper_NEMO[i,p,l]):\n",
    "                votemper_NEMO[i,p,l] = votemper_NEMO[i-1,p,l]\n",
    "            else:\n",
    "                continue\n",
    "\n",
    "                \n",
    "for i in np.arange(vosaline_NEMO.shape[0]):\n",
    "    for p in np.arange(vosaline_NEMO.shape[1]):\n",
    "        for l in np.arange(vosaline_NEMO.shape[2]):\n",
    "            if np.isnan(vosaline_NEMO[i,p,l]):\n",
    "                vosaline_NEMO[i,p,l] = vosaline_NEMO[i-1,p,l]\n",
    "            else:\n",
    "                continue\n",
    "\n",
    "\n",
    "\n",
    "print(\"Vertical Interpolation to WCVI depth levels successful\")"
   ]
  },
  {
   "cell_type": "code",
   "execution_count": null,
   "metadata": {
    "collapsed": true
   },
   "outputs": [],
   "source": [
    "pressure_input=np.zeros_like(vosaline_NEMO)\n",
    "\n",
    "for i in np.arange(pressure_input.shape[0]):\n",
    "    for j in np.arange(pressure_input.shape[1]):\n",
    "        for k in np.arange(pressure_input.shape[2]):\n",
    "            pressure_input[i,j,k] = pressure[i]"
   ]
  },
  {
   "cell_type": "code",
   "execution_count": 24,
   "metadata": {
    "collapsed": false
   },
   "outputs": [
    {
     "name": "stderr",
     "output_type": "stream",
     "text": [
      "/home/ssahu/anaconda3/lib/python3.5/site-packages/ipykernel/__main__.py:3: RuntimeWarning: invalid value encountered in sqrt\n",
      "  app.launch_new_instance()\n"
     ]
    }
   ],
   "source": [
    "(N2, p_mid) = gsw.stability.Nsquared(vosaline_NEMO, votemper_NEMO, pressure_input, lat=None, axis=0)\n",
    "\n",
    "N = np.sqrt(N2)"
   ]
  },
  {
   "cell_type": "markdown",
   "metadata": {},
   "source": [
    "$\\frac{\\partial^2}{\\partial z^2} w_m + \\alpha^2 N^2 w_m = 0$\n",
    "\n",
    "\n",
    "with boundary conditions of $(w_m = 0)$ at the surface and the bottom.\n",
    "\n",
    "\n",
    "$z$ is the vertical coordinate, measured in m,\n",
    "$w_m$ are the vertical velocity modes and\n",
    "$N^2$ is a profile of Brunt-Vaisala (buoyancy) frequencies squared $[s^{-2}]$"
   ]
  },
  {
   "cell_type": "code",
   "execution_count": 27,
   "metadata": {
    "collapsed": false
   },
   "outputs": [],
   "source": [
    "rho = gsw.density.rho(vosaline_NEMO, votemper_NEMO, pressure_input)"
   ]
  },
  {
   "cell_type": "code",
   "execution_count": null,
   "metadata": {
    "collapsed": true
   },
   "outputs": [],
   "source": []
  },
  {
   "cell_type": "code",
   "execution_count": 9,
   "metadata": {
    "collapsed": false
   },
   "outputs": [
    {
     "name": "stderr",
     "output_type": "stream",
     "text": [
      "/home/ssahu/anaconda3/lib/python3.5/site-packages/numpy/ma/core.py:2344: RuntimeWarning: invalid value encountered in less_equal\n",
      "  mabs(xnew - value), atol + rtol * mabs(value))\n"
     ]
    },
    {
     "data": {
      "text/plain": [
       "<matplotlib.contour.QuadContourSet at 0x7fc210a8dda0>"
      ]
     },
     "execution_count": 9,
     "metadata": {},
     "output_type": "execute_result"
    },
    {
     "name": "stderr",
     "output_type": "stream",
     "text": [
      "/home/ssahu/anaconda3/lib/python3.5/site-packages/matplotlib/colors.py:496: RuntimeWarning: invalid value encountered in less\n",
      "  cbook._putmask(xa, xa < 0.0, -1)\n"
     ]
    },
    {
     "data": {
      "image/png": "[encoded data removed]",
      "text/plain": [
       "<matplotlib.figure.Figure at 0x7fc2282eca20>"
      ]
     },
     "metadata": {},
     "output_type": "display_data"
    }
   ],
   "source": [
    "bathy = '/ocean/ssahu/CANYONS/wcvi/grid/bathy_meter.nc'\n",
    "\n",
    "N0 = np.ma.masked_values(N[0,...], 0)  #for higher accuracy masking should always be done from bathymetry and not from ssh data\n",
    "fig, ax = plt.subplots(1, 1, figsize=(10, 8))\n",
    "viz_tools.set_aspect(ax)\n",
    "mesh = ax.pcolormesh(N0)\n",
    "cmap = plt.get_cmap(cm.deep_r)\n",
    "cmap.set_bad('burlywood')\n",
    "viz_tools.set_aspect(ax)\n",
    "mesh = ax.pcolormesh(N0, cmap=cmap, vmin = np.nanmin(N), vmax = np.nanmax(N) )#, vmin = 0, vmax = 0.035789498226021829)\n",
    "cbar = fig.colorbar(mesh)\n",
    "viz_tools.plot_land_mask(ax, bathy, color='burlywood')\n",
    "# cbar.set_label('Sea surface height (in m)')"
   ]
  },
  {
   "cell_type": "code",
   "execution_count": 26,
   "metadata": {
    "collapsed": false
   },
   "outputs": [
    {
     "data": {
      "image/png": "[encoded data removed]",
      "text/plain": [
       "<matplotlib.figure.Figure at 0x7fc1f9c3c518>"
      ]
     },
     "metadata": {},
     "output_type": "display_data"
    }
   ],
   "source": [
    "import matplotlib.pyplot as plt\n",
    "\n",
    "# define data\n",
    "\n",
    "N_z = N[:20,384,98]\n",
    "Depth  = -zlevels[1:21]\n",
    "\n",
    "fig = plt.figure()\n",
    "ax = fig.add_subplot(111)\n",
    "\n",
    "ax.plot(N_z, Depth, 'go--')\n",
    "ax.xaxis.tick_top()\n",
    "\n",
    "ax.set_ylabel('depth')\n",
    "# ax.set_ylim(50, 0)\n",
    "# ax.set_xlim(0, 25)\n",
    "ax.set_xlabel('Buoyancy Frequency')\n",
    "\n",
    "plt.show()"
   ]
  },
  {
   "cell_type": "code",
   "execution_count": 28,
   "metadata": {
    "collapsed": false
   },
   "outputs": [
    {
     "data": {
      "image/png": "[encoded data removed]",
      "text/plain": [
       "<matplotlib.figure.Figure at 0x7fc1f9beb438>"
      ]
     },
     "metadata": {},
     "output_type": "display_data"
    }
   ],
   "source": [
    "import matplotlib.pyplot as plt\n",
    "\n",
    "# define data\n",
    "\n",
    "rho_z = rho[:20,384,98]\n",
    "Depth  = -zlevels[1:21]\n",
    "\n",
    "fig = plt.figure()\n",
    "ax = fig.add_subplot(111)\n",
    "\n",
    "ax.plot(rho_z, Depth, 'go--')\n",
    "ax.xaxis.tick_top()\n",
    "\n",
    "ax.set_ylabel('depth')\n",
    "# ax.set_ylim(50, 0)\n",
    "# ax.set_xlim(0, 25)\n",
    "ax.set_xlabel('Insitu Density')\n",
    "\n",
    "plt.show()"
   ]
  },
  {
   "cell_type": "code",
   "execution_count": 32,
   "metadata": {
    "collapsed": false
   },
   "outputs": [
    {
     "ename": "TypeError",
     "evalue": "'int' object is not iterable",
     "output_type": "error",
     "traceback": [
      "\u001b[0;31m---------------------------------------------------------------------------\u001b[0m",
      "\u001b[0;31mTypeError\u001b[0m                                 Traceback (most recent call last)",
      "\u001b[0;32m<ipython-input-32-9dc3dde2c4d3>\u001b[0m in \u001b[0;36m<module>\u001b[0;34m()\u001b[0m\n\u001b[0;32m----> 1\u001b[0;31m \u001b[0;32mfor\u001b[0m \u001b[0mi\u001b[0m \u001b[0;32min\u001b[0m \u001b[0mrho\u001b[0m\u001b[0;34m.\u001b[0m\u001b[0mshape\u001b[0m\u001b[0;34m[\u001b[0m\u001b[0;36m0\u001b[0m\u001b[0;34m]\u001b[0m\u001b[0;34m:\u001b[0m\u001b[0;34m\u001b[0m\u001b[0m\n\u001b[0m\u001b[1;32m      2\u001b[0m     \u001b[0mprint\u001b[0m\u001b[0;34m(\u001b[0m\u001b[0mi\u001b[0m\u001b[0;34m)\u001b[0m\u001b[0;34m\u001b[0m\u001b[0m\n\u001b[1;32m      3\u001b[0m \u001b[0;31m#     for j in rho.shape[1]:\u001b[0m\u001b[0;34m\u001b[0m\u001b[0;34m\u001b[0m\u001b[0m\n\u001b[1;32m      4\u001b[0m \u001b[0;31m#         for k in rho.shape[2]:\u001b[0m\u001b[0;34m\u001b[0m\u001b[0;34m\u001b[0m\u001b[0m\n\u001b[1;32m      5\u001b[0m \u001b[0;31m#             print(np.where(rho[i,j,k]>rho[i+1,j,k]))\u001b[0m\u001b[0;34m\u001b[0m\u001b[0;34m\u001b[0m\u001b[0m\n",
      "\u001b[0;31mTypeError\u001b[0m: 'int' object is not iterable"
     ]
    }
   ],
   "source": [
    "for i in rho.shape[0]:\n",
    "    for j in rho.shape[1]:\n",
    "        for k in rho.shape[2]:\n",
    "            print(np.where(rho[i,j,k]>rho[i+1,j,k]))"
   ]
  },
  {
   "cell_type": "code",
   "execution_count": 33,
   "metadata": {
    "collapsed": false
   },
   "outputs": [
    {
     "data": {
      "text/plain": [
       "(40, 390, 290)"
      ]
     },
     "execution_count": 33,
     "metadata": {},
     "output_type": "execute_result"
    }
   ],
   "source": [
    "rho.shape"
   ]
  },
  {
   "cell_type": "code",
   "execution_count": 15,
   "metadata": {
    "collapsed": false
   },
   "outputs": [
    {
     "data": {
      "image/png": "[encoded data removed]",
      "text/plain": [
       "<matplotlib.figure.Figure at 0x7fc1faf41400>"
      ]
     },
     "metadata": {},
     "output_type": "display_data"
    }
   ],
   "source": [
    "import matplotlib.pyplot as plt\n",
    "\n",
    "# define data\n",
    "\n",
    "N_z = N[:20,380,95]\n",
    "Depth  = -zlevels[1:21]\n",
    "\n",
    "fig = plt.figure()\n",
    "ax = fig.add_subplot(111)\n",
    "\n",
    "ax.plot(N_z, Depth, 'go--')\n",
    "ax.xaxis.tick_top()\n",
    "\n",
    "ax.set_ylabel('depth')\n",
    "# ax.set_ylim(50, 0)\n",
    "# ax.set_xlim(0, 25)\n",
    "ax.set_xlabel('Buoyancy Frequency')\n",
    "\n",
    "plt.show()"
   ]
  },
  {
   "cell_type": "code",
   "execution_count": 16,
   "metadata": {
    "collapsed": false
   },
   "outputs": [
    {
     "data": {
      "image/png": "[encoded data removed]",
      "text/plain": [
       "<matplotlib.figure.Figure at 0x7fc1faf3c860>"
      ]
     },
     "metadata": {},
     "output_type": "display_data"
    }
   ],
   "source": [
    "import matplotlib.pyplot as plt\n",
    "\n",
    "# define data\n",
    "\n",
    "rho_z = rho[:20,380,95]\n",
    "Depth  = -zlevels[1:21]\n",
    "\n",
    "fig = plt.figure()\n",
    "ax = fig.add_subplot(111)\n",
    "\n",
    "ax.plot(rho_z, Depth, 'go--')\n",
    "ax.xaxis.tick_top()\n",
    "\n",
    "ax.set_ylabel('depth')\n",
    "# ax.set_ylim(50, 0)\n",
    "# ax.set_xlim(0, 25)\n",
    "ax.set_xlabel('Insitu Density')\n",
    "\n",
    "plt.show()"
   ]
  },
  {
   "cell_type": "code",
   "execution_count": null,
   "metadata": {
    "collapsed": true
   },
   "outputs": [],
   "source": []
  },
  {
   "cell_type": "code",
   "execution_count": null,
   "metadata": {
    "collapsed": false
   },
   "outputs": [],
   "source": [
    "import matplotlib.pyplot as plt\n",
    "\n",
    "# define data\n",
    "\n",
    "N_z = N[:20,200,150]\n",
    "Depth  = -zlevels[1:21]\n",
    "\n",
    "fig = plt.figure()\n",
    "ax = fig.add_subplot(111)\n",
    "\n",
    "ax.plot(N_z, Depth, 'go--')\n",
    "ax.xaxis.tick_top()\n",
    "\n",
    "ax.set_ylabel('depth')\n",
    "# ax.set_ylim(50, 0)\n",
    "# ax.set_xlim(0, 25)\n",
    "ax.set_xlabel('Buoyancy Frequency')\n",
    "\n",
    "plt.show()"
   ]
  },
  {
   "cell_type": "code",
   "execution_count": null,
   "metadata": {
    "collapsed": false
   },
   "outputs": [],
   "source": [
    "np.where(N==np.nanmax(N))"
   ]
  },
  {
   "cell_type": "code",
   "execution_count": 260,
   "metadata": {
    "collapsed": true
   },
   "outputs": [],
   "source": [
    "\"\"\"Ocean vertical dynamic modes exercise code for Mathematical Modelling of Geophysical\n",
    "Fluids MPE2013 Workshop at African Institute for Mathematical Sciences.\n",
    "\"\"\"\n",
    "import matplotlib.pyplot as plt\n",
    "import numpy as np\n",
    "import scipy.linalg\n",
    "\n",
    "\n",
    "def dynmodes(Nsq, depth, nmodes):\n",
    "    \"\"\"Calculate the 1st nmodes ocean dynamic vertical modes\n",
    "    given a profile of Brunt-Vaisala (buoyancy) frequencies squared.\n",
    "\n",
    "    Based on http://woodshole.er.usgs.gov/operations/sea-mat/klinck-html/dynmodes.html\n",
    "    by John Klinck, 1999.\n",
    "\n",
    "    :arg Nsq: Brunt-Vaisala (buoyancy) frequencies squared in [1/s^2]\n",
    "    :type Nsq: :class:`numpy.ndarray`\n",
    "\n",
    "    :arg depth: Depths in [m]\n",
    "    :type depth: :class:`numpy.ndarray`\n",
    "\n",
    "    :arg nmodes: Number of modes to calculate\n",
    "    :type nmodes: int\n",
    "\n",
    "    :returns: :obj:`(wmodes, pmodes, rmodes, ce)` vertical velocity modes,\n",
    "              horizontal velocity modes, vertical density modes, modal speeds\n",
    "    :rtype: tuple of :class:`numpy.ndarray`\n",
    "    \"\"\"\n",
    "    # 2nd derivative matrix plus boundary conditions\n",
    "    d2dz2, nz, dz = build_d2dz2_matrix(depth)\n",
    "    # N-squared diagonal matrix\n",
    "    Nsq_mat = np.identity(nz) * Nsq\n",
    "    # Solve generalized eigenvalue problem for eigenvalues and vertical\n",
    "    # velocity modes\n",
    "    eigenvalues, wmodes = scipy.linalg.eig(d2dz2, Nsq_mat)\n",
    "#     eigenvalues, wmodes = clean_up_modes(eigenvalues, wmodes, nmodes)\n",
    "    # Vertical density modes\n",
    "    rmodes = wmodes * Nsq\n",
    "    # Modal speeds\n",
    "    ce = np.real(1 / np.sqrt(eigenvalues))\n",
    "    # Horizontal velocity modes\n",
    "    pmodes = np.zeros_like(wmodes)\n",
    "    # 1st derivative of vertical modes\n",
    "    pr = np.diff(wmodes) / dz\n",
    "    # Linear interpolation on to the vertical coordinate grid\n",
    "    pmodes[:, 1:nz - 1] = (pr[:, 1:nz - 1] + pr[:, :nz - 2]) / 2\n",
    "    pmodes[:, 0] = pr[:, 0]\n",
    "    pmodes[:, nz - 1] = pr[:, nz - 2]\n",
    "    return wmodes, pmodes, rmodes, ce\n",
    "\n",
    "\n",
    "# def build_d2dz2_matrix(depth):\n",
    "#     \"\"\"Build the matrix that discretizes the 2nd derivative\n",
    "#     over the vertical coordinate, and applies the boundary conditions.\n",
    "\n",
    "#     :arg depth: Depths in [m]\n",
    "#     :type depth: :class:`numpy.ndarray`\n",
    "\n",
    "#     :returns: :obj:`(d2dz2, nz, dz)` 2nd derivative matrix\n",
    "#               (:class:`numpy.ndarray`),\n",
    "#               number of vertical coordinate grid steps,\n",
    "#               and array of vertical coordinate grid point spacings\n",
    "#               (:class:`numpy.ndarray`)\n",
    "#     :rtype: tuple\n",
    "#     \"\"\"\n",
    "#     zed = -depth\n",
    "#     # Number and size (in [m]) of vertical coordinate grid steps\n",
    "#     nz = zed.size\n",
    "#     dz = zed[:nz - 1] - zed[1:]\n",
    "#     # Grid step midpoints\n",
    "#     z_mid = zed[:nz - 1] - 0.5 * dz[:nz - 1]\n",
    "#     # Size of steps between grid step midpoints\n",
    "#     dz_mid = np.zeros_like(zed)\n",
    "#     dz_mid[1:dz_mid.size - 1] = z_mid[:nz - 2] - z_mid[1:nz - 1]\n",
    "#     dz_mid[0] = dz_mid[1]\n",
    "#     dz_mid[dz_mid.size - 1] = dz_mid[dz_mid.size - 2]\n",
    "#     # 2nd derivative matrix matrix\n",
    "#     d2dz2 = np.zeros((nz, nz))\n",
    "#     # Elements on the diagonal\n",
    "#     diag_index = np.arange(1, nz - 1)\n",
    "#     d2dz2[diag_index, diag_index] = (\n",
    "#         1 / (dz[:nz - 2] * dz_mid[1:nz - 1]) + 1 / (dz[1:nz - 1] * dz_mid[1:nz - 1]))\n",
    "#     # Elements on the super-diagonal\n",
    "#     diag_index_p1 = np.arange(2, nz)\n",
    "#     d2dz2[diag_index, diag_index_p1] = -1 / (dz[:nz - 2] * dz_mid[1:nz - 1])\n",
    "#     # Elements on the sub-diagonal\n",
    "#     diag_index_m1 = np.arange(nz - 2)\n",
    "#     d2dz2[diag_index, diag_index_m1] = -1 / (dz[1:nz - 1] * dz_mid[1:nz - 1])\n",
    "#     # Boundary conditions\n",
    "#     d2dz2[0, 0] = d2dz2[nz - 1, 0] = -1\n",
    "#     return d2dz2, nz, dz\n",
    "\n",
    "def build_d2dz2_matrix(depth):\n",
    "    \"\"\"Build the matrix that discretizes the 2nd derivative\n",
    "    over the vertical coordinate, and applies the boundary conditions.\n",
    "    \"\"\"\n",
    "    zed = -np.array(depth)\n",
    "    # Number and size (in [m]) of vertical coordinate grid steps\n",
    "    # Number and size (in [m]) of vertical coordinate grid steps\n",
    "    nz = zed.size\n",
    "    dz = np.empty(nz -1)\n",
    "    for i in np.arange(1,zed.shape[0]):\n",
    "        dz[i-1] = zed[i] - zed[i-1]\n",
    "#     dz = zed[:nz - 1] - zed[1:]\n",
    "    # Grid step midpoints\n",
    "    z_mid = zed[:nz - 1] - 0.5 * dz[:nz - 1]\n",
    "    # Size of steps between grid step midpoints\n",
    "    dz_mid = np.zeros_like(zed)\n",
    "    dz_mid[1:dz_mid.size - 1] = z_mid[:nz - 2] - z_mid[1:nz - 1]\n",
    "    dz_mid[0] = dz_mid[1]\n",
    "    dz_mid[dz_mid.size - 1] = dz_mid[dz_mid.size - 2]\n",
    "    # 2nd derivative matrix matrix\n",
    "    d2dz2 = np.zeros((nz, nz))\n",
    "    # Elements on the diagonal\n",
    "    diag_index = np.arange(1, nz - 1)\n",
    "    d2dz2[diag_index, diag_index] = (\n",
    "        1 / (dz[:nz - 2] * dz_mid[1:nz - 1]) + 1 / (dz[1:nz - 1] * dz_mid[1:nz - 1]))\n",
    "    # Elements on the super-diagonal\n",
    "    diag_index_p1 = np.arange(2, nz)\n",
    "    d2dz2[diag_index, diag_index_p1] = -1 / (dz[:nz - 2] * dz_mid[1:nz - 1])\n",
    "    # Elements on the sub-diagonal\n",
    "    diag_index_m1 = np.arange(nz - 2)\n",
    "    d2dz2[diag_index, diag_index_m1] = -1 / (dz[1:nz - 1] * dz_mid[1:nz - 1])\n",
    "    # Boundary conditions\n",
    "    d2dz2[0, 0] = d2dz2[nz - 1, 0] = -1\n",
    "    return d2dz2, nz, dz\n",
    "\n",
    "\n",
    "\n",
    "# def clean_up_modes(eigenvalues, wmodes, nmodes):\n",
    "#     \"\"\"Exclude complex-valued and near-zero/negative eigenvalues and their modes.\n",
    "#     Sort the eigenvalues and mode by increasing eigenvalue magnitude,\n",
    "#     truncate the results to the number of modes that were requested,\n",
    "#     and convert the modes from complex to real numbers.\n",
    "\n",
    "#     :arg eigenvalues: Eigenvalues\n",
    "#     :type eigenvalues: :class:`numpy.ndarray`\n",
    "\n",
    "#     :arg wmodes: Modes\n",
    "#     :type wmodes: :class:`numpy.ndarray`\n",
    "\n",
    "#     :arg nmodes: Number of modes requested\n",
    "#     :type nmodes: int\n",
    "\n",
    "#     :returns: :obj:`(eigenvalues, wmodes)`\n",
    "#     :rtype: tuple of :class:`numpy.ndarray`\n",
    "#     \"\"\"\n",
    "#     # Transpose modes to that they can be handled as an array of vectors\n",
    "#     wmodes = wmodes.transpose()\n",
    "#     # Filter out complex-values and small/negative eigenvalues\n",
    "#     # and corresponding modes\n",
    "#     mask = np.imag(eigenvalues) == 0\n",
    "#     eigenvalues = eigenvalues[mask]\n",
    "#     wmodes = wmodes[mask]\n",
    "#     mask = eigenvalues >= 1e-10\n",
    "#     eigenvalues = eigenvalues[mask]\n",
    "#     wmodes = wmodes[mask]\n",
    "#     # Sort eigenvalues and modes and truncate to number of modes requests\n",
    "#     index = np.argsort(eigenvalues)\n",
    "#     eigenvalues = eigenvalues[index[:nmodes]]\n",
    "#     wmodes = wmodes[index[:nmodes]]\n",
    "#     return eigenvalues, wmodes.real\n",
    "\n",
    "\n",
    "def plot_modes(Nsq, depth, nmodes, wmodes, pmodes, rmodes):\n",
    "    \"\"\"Plot Brunt-Vaisala (buoyancy) frequency profile and 3 sets of modes\n",
    "    (vertical velocity, horizontal velocity, and vertical density) in 4 panes.\n",
    "\n",
    "    :arg Nsq: Brunt-Vaisala (buoyancy) frequencies squared in [1/s^2]\n",
    "    :type Nsq: :class:`numpy.ndarray`\n",
    "\n",
    "    :arg depth: Depths in [m]\n",
    "    :type depth: :class:`numpy.ndarray`\n",
    "\n",
    "    :arg wmodes: Vertical velocity modes\n",
    "    :type wmodes: :class:`numpy.ndarray`\n",
    "\n",
    "    :arg pmodes: Horizontal velocity modes\n",
    "    :type pmodes: :class:`numpy.ndarray`\n",
    "\n",
    "    :arg rmodes: Vertical density modes\n",
    "    :type rmodes: :class:`numpy.ndarray`\n",
    "\n",
    "    :arg nmodes: Number of modes to calculate\n",
    "    :type nmodes: int\n",
    "    \"\"\"\n",
    "    fig = plt.figure(figsize=(10, 10))\n",
    "    ax = fig.add_subplot(2, 2, 1)\n",
    "    # Nsq\n",
    "    ax.plot(Nsq, -depth)\n",
    "    ax.ticklabel_format(style='sci', scilimits=(2, 2), axis='x')\n",
    "    ax.set_ylabel('z')\n",
    "    ax.set_xlabel('N^2')\n",
    "    # modes\n",
    "    mode_sets = [\n",
    "        # (values, subplot number, x-axis title)\n",
    "        (wmodes, 2, 'wmodes'),\n",
    "        (pmodes, 3, 'pmodes'),\n",
    "        (rmodes, 4, 'rmodes'),\n",
    "    ]\n",
    "    for mode_set in mode_sets:\n",
    "        modes, subplot, title = mode_set\n",
    "        ax = fig.add_subplot(2, 2, subplot)\n",
    "        for i in np.arange(nmodes):\n",
    "            ax.plot(modes[i], -depth, label='mode {}'.format(i + 1))\n",
    "        ax.ticklabel_format(style='sci', scilimits=(3, 3), axis='x')\n",
    "        ax.set_ylabel('z')\n",
    "        ax.set_xlabel(title)\n",
    "        ax.legend(loc='best')\n",
    "\n",
    "\n",
    "def read_density_profile(filename):\n",
    "    \"\"\"Return depth and density arrays read from filename.\n",
    "\n",
    "    :arg filename: Name of density profile file.\n",
    "    :type filename: string\n",
    "\n",
    "    :returns: :obj:`(depth, density)` depths, densities\n",
    "    :rtype: tuple of :class:`numpy.ndarray`\n",
    "    \"\"\"\n",
    "    depth = []\n",
    "    density = []\n",
    "    with open(filename) as f:\n",
    "        for line in interesting_lines(f):\n",
    "            deep, rho = map(float, line.split())\n",
    "            depth.append(deep)\n",
    "            density.append(rho)\n",
    "    return np.array(depth), np.array(density)\n",
    "\n",
    "\n",
    "def interesting_lines(f):\n",
    "    for line in f:\n",
    "        if line and not line.startswith('#'):\n",
    "            yield line\n",
    "\n",
    "\n",
    "def density2Nsq(depth, density, rho0=1028):\n",
    "    \"\"\"Return the Brunt-Vaisala (buoyancy) frequency (Nsq) profile\n",
    "    corresponding to the given density profile.\n",
    "    The surface Nsq value is set to the value of the 1st calculated value\n",
    "    below the surface.\n",
    "    Also return the depths for which the Brunt-Vaisala (buoyancy) frequencies squared\n",
    "    were calculated.\n",
    "\n",
    "    :arg depth: Depths in [m]\n",
    "    :type depth: :class:`numpy.ndarray`\n",
    "\n",
    "    :arg density: Densities in [kg/m^3]\n",
    "    :type density: :class:`numpy.ndarray`\n",
    "\n",
    "    :arg rho0: Reference density in [kg/m^3]; defaults to 1028\n",
    "    :type rho0: number\n",
    "\n",
    "    :returns: :obj:`(Nsq_depth, Nsq)` depths for which the Brunt-Vaisala\n",
    "              (buoyancy) frequencies squared were calculated,\n",
    "              Brunt-Vaisala (buoyancy) frequencies squared\n",
    "    :rtype: tuple of :class:`numpy.ndarray`\n",
    "    \"\"\"\n",
    "    grav_acc = 9.8  # m / s^2\n",
    "    Nsq = np.zeros_like(density)\n",
    "    Nsq[1:] = np.diff(density) * grav_acc / (np.diff(depth) * rho0)\n",
    "    Nsq[0] = Nsq[1]\n",
    "    Nsq[Nsq < 0] = 0\n",
    "    Nsq_depth = np.zeros_like(depth)\n",
    "    Nsq_depth[1:] = (depth[:depth.size - 1] + depth[1:]) / 2\n",
    "    return Nsq_depth, Nsq\n"
   ]
  },
  {
   "cell_type": "code",
   "execution_count": null,
   "metadata": {
    "collapsed": false
   },
   "outputs": [],
   "source": []
  },
  {
   "cell_type": "code",
   "execution_count": null,
   "metadata": {
    "collapsed": true
   },
   "outputs": [],
   "source": []
  },
  {
   "cell_type": "code",
   "execution_count": null,
   "metadata": {
    "collapsed": false
   },
   "outputs": [],
   "source": [
    "# 2nd derivative matrix matrix\n",
    "d2dz2 = np.zeros((nz, nz))\n",
    "# Elements on the diagonal\n",
    "diag_index = np.arange(1, nz - 1)\n",
    "d2dz2[diag_index, diag_index] = (\n",
    "    1 / (dz[:nz - 2] * dz_mid[1:nz - 1]) + 1 / (dz[1:nz - 1] * dz_mid[1:nz - 1]))\n",
    "# Elements on the super-diagonal\n",
    "diag_index_p1 = np.arange(2, nz)\n",
    "d2dz2[diag_index, diag_index_p1] = -1 / (dz[:nz - 2] * dz_mid[1:nz - 1])\n",
    "# Elements on the sub-diagonal\n",
    "diag_index_m1 = np.arange(nz - 2)\n",
    "d2dz2[diag_index, diag_index_m1] = -1 / (dz[1:nz - 1] * dz_mid[1:nz - 1])\n",
    "# Boundary conditions\n",
    "d2dz2[0, 0] = d2dz2[nz - 1, 0] = -1"
   ]
  },
  {
   "cell_type": "code",
   "execution_count": null,
   "metadata": {
    "collapsed": true
   },
   "outputs": [],
   "source": []
  },
  {
   "cell_type": "code",
   "execution_count": null,
   "metadata": {
    "collapsed": true
   },
   "outputs": [],
   "source": []
  },
  {
   "cell_type": "code",
   "execution_count": null,
   "metadata": {
    "collapsed": true
   },
   "outputs": [],
   "source": [
    "def build_d2dz2_matrix(depth):\n",
    "    \"\"\"Build the matrix that discretizes the 2nd derivative\n",
    "    over the vertical coordinate, and applies the boundary conditions.\n",
    "\n",
    "    :arg depth: Depths in [m]\n",
    "    :type depth: :class:`numpy.ndarray`\n",
    "\n",
    "    :returns: :obj:`(d2dz2, nz, dz)` 2nd derivative matrix\n",
    "              (:class:`numpy.ndarray`),\n",
    "              number of vertical coordinate grid steps,\n",
    "              and array of vertical coordinate grid point spacings\n",
    "              (:class:`numpy.ndarray`)\n",
    "    :rtype: tuple\n",
    "  \"\"\"\n",
    "\n",
    "\n",
    "    zed = -zlevels\n",
    "    # Number and size (in [m]) of vertical coordinate grid steps\n",
    "    nz = zed.size\n",
    "    dz = np.diff(a=zed)\n",
    "    z_mid = zed[:nz - 1] - 0.5 * dz[:nz - 1]\n",
    "    # Size of steps between grid step midpoints\n",
    "    dz_mid = np.zeros_like(z_mid)\n",
    "    dz_mid[1:dz_mid.size - 1] = z_mid[:nz - 2] - z_mid[1:nz - 1]\n",
    "    dz_mid[0] = dz_mid[1]\n",
    "    dz_mid[dz_mid.size - 1] = dz_mid[dz_mid.size - 2]\n",
    "    # 2nd derivative matrix matrix\n",
    "    d2dz2 = np.zeros((nz, nz))\n",
    "    # Elements on the diagonal\n",
    "    diag_index = np.arange(1, nz - 1)\n",
    "    d2dz2[diag_index, diag_index] = (\n",
    "        1 / (dz[:nz - 2] * dz_mid[1:nz - 1]) + 1 / (dz[1:nz - 1] * dz_mid[1:nz - 1]))\n",
    "    # Elements on the super-diagonal\n",
    "    diag_index_p1 = np.arange(2, nz)\n",
    "    d2dz2[diag_index, diag_index_p1] = -1 / (dz[:nz - 2] * dz_mid[1:nz - 1])\n",
    "    # Elements on the sub-diagonal\n",
    "    diag_index_m1 = np.arange(nz - 2)\n",
    "    d2dz2[diag_index, diag_index_m1] = -1 / (dz[1:nz - 1] * dz_mid[1:nz - 1])\n",
    "    # Boundary conditions\n",
    "    d2dz2[0, 0] = d2dz2[nz - 1, 0] = -1\n",
    "    return d2dz2, nz, dz"
   ]
  },
  {
   "cell_type": "code",
   "execution_count": null,
   "metadata": {
    "collapsed": true
   },
   "outputs": [],
   "source": [
    "dz = zed[:nz - 1] - zed[1:]"
   ]
  },
  {
   "cell_type": "code",
   "execution_count": null,
   "metadata": {
    "collapsed": false
   },
   "outputs": [],
   "source": [
    "dz.shape"
   ]
  },
  {
   "cell_type": "code",
   "execution_count": null,
   "metadata": {
    "collapsed": false
   },
   "outputs": [],
   "source": [
    "zed.shape"
   ]
  },
  {
   "cell_type": "code",
   "execution_count": null,
   "metadata": {
    "collapsed": true
   },
   "outputs": [],
   "source": [
    "# Grid step midpoints\n",
    "z_mid = zed[:nz - 1] - 0.5 * dz[:nz - 1]"
   ]
  },
  {
   "cell_type": "code",
   "execution_count": null,
   "metadata": {
    "collapsed": false
   },
   "outputs": [],
   "source": [
    "z_mid.shape"
   ]
  },
  {
   "cell_type": "code",
   "execution_count": null,
   "metadata": {
    "collapsed": false
   },
   "outputs": [],
   "source": [
    "# Size of steps between grid step midpoints\n",
    "dz_mid = np.zeros_like(z_mid)\n",
    "dz_mid[1:dz_mid.size - 1] = z_mid[:nz - 2] - z_mid[1:nz - 1]\n",
    "dz_mid[0] = dz_mid[1]\n",
    "dz_mid[dz_mid.size - 1] = dz_mid[dz_mid.size - 2]\n",
    "# 2nd derivative matrix matrix\n",
    "d2dz2 = np.zeros((nz, nz))\n",
    "# Elements on the diagonal\n",
    "diag_index = np.arange(1, nz - 1)\n",
    "d2dz2[diag_index, diag_index] = (\n",
    "    1 / (dz[:nz - 2] * dz_mid[1:nz - 1]) + 1 / (dz[1:nz - 1] * dz_mid[1:nz - 1]))\n",
    "# Elements on the super-diagonal\n",
    "diag_index_p1 = np.arange(2, nz)\n",
    "d2dz2[diag_index, diag_index_p1] = -1 / (dz[:nz - 2] * dz_mid[1:nz - 1])\n",
    "# Elements on the sub-diagonal\n",
    "diag_index_m1 = np.arange(nz - 2)\n",
    "d2dz2[diag_index, diag_index_m1] = -1 / (dz[1:nz - 1] * dz_mid[1:nz - 1])\n",
    "# Boundary conditions\n",
    "d2dz2[0, 0] = d2dz2[nz - 1, 0] = -1\n",
    "#     return d2dz2, nz, dz"
   ]
  },
  {
   "cell_type": "code",
   "execution_count": null,
   "metadata": {
    "collapsed": false
   },
   "outputs": [],
   "source": [
    "N2.shape"
   ]
  },
  {
   "cell_type": "code",
   "execution_count": null,
   "metadata": {
    "collapsed": false
   },
   "outputs": [],
   "source": [
    "np.where(np.isnan(N2), ma.array(N2, mask=np.isnan(N2)).min(axis=0), N2)"
   ]
  },
  {
   "cell_type": "code",
   "execution_count": null,
   "metadata": {
    "collapsed": true
   },
   "outputs": [],
   "source": [
    "for i in np.arange(N2.shape[0]):\n",
    "    for j in np.arange(N2.shape[1]):\n",
    "        for k in np.arange(N2.shape[2]):\n",
    "            if np.isnan(N2[i,j,k]):\n",
    "                N2[i,j,k] = np.nanmean(N2[:,j,k])"
   ]
  },
  {
   "cell_type": "code",
   "execution_count": null,
   "metadata": {
    "collapsed": false
   },
   "outputs": [],
   "source": [
    "N = np.sqrt(N2)"
   ]
  },
  {
   "cell_type": "code",
   "execution_count": null,
   "metadata": {
    "collapsed": false
   },
   "outputs": [],
   "source": [
    "N.shape"
   ]
  },
  {
   "cell_type": "code",
   "execution_count": null,
   "metadata": {
    "collapsed": false
   },
   "outputs": [],
   "source": [
    "g = 9.81\n",
    "pi = 3.27\n",
    "\n",
    "for i in np.arange(N.shape[0]-2):\n",
    "    D = (np.sqrt(np.matmul(N[i,...],np.diff(zlevels[i]))))/(g*pi*pi)\n",
    "    c = np.sqrt(g*D)"
   ]
  },
  {
   "cell_type": "code",
   "execution_count": null,
   "metadata": {
    "collapsed": true
   },
   "outputs": [],
   "source": []
  },
  {
   "cell_type": "code",
   "execution_count": null,
   "metadata": {
    "collapsed": true
   },
   "outputs": [],
   "source": []
  },
  {
   "cell_type": "code",
   "execution_count": null,
   "metadata": {
    "collapsed": false
   },
   "outputs": [],
   "source": [
    "N2[:,100,100]"
   ]
  },
  {
   "cell_type": "code",
   "execution_count": null,
   "metadata": {
    "collapsed": false
   },
   "outputs": [],
   "source": [
    "(wmodes, pmodes, rmodes, ce) = dynmodes(N2[:5,0,0], zlevels[:5], 2)"
   ]
  },
  {
   "cell_type": "code",
   "execution_count": null,
   "metadata": {
    "collapsed": false
   },
   "outputs": [],
   "source": [
    "N2[:5,0,0]"
   ]
  },
  {
   "cell_type": "code",
   "execution_count": null,
   "metadata": {
    "collapsed": false
   },
   "outputs": [],
   "source": [
    "zlevels.shape"
   ]
  },
  {
   "cell_type": "code",
   "execution_count": null,
   "metadata": {
    "collapsed": true
   },
   "outputs": [],
   "source": []
  },
  {
   "cell_type": "code",
   "execution_count": 50,
   "metadata": {
    "collapsed": false
   },
   "outputs": [],
   "source": []
  },
  {
   "cell_type": "code",
   "execution_count": 51,
   "metadata": {
    "collapsed": false
   },
   "outputs": [
    {
     "name": "stderr",
     "output_type": "stream",
     "text": [
      "/home/ssahu/anaconda3/lib/python3.5/site-packages/xarray/core/variable.py:1047: RuntimeWarning: divide by zero encountered in true_divide\n",
      "  else f(other_data, self_data))\n"
     ]
    }
   ],
   "source": [
    "d2dz2, nz, dz = build_d2dz2_matrix(zlevels)"
   ]
  },
  {
   "cell_type": "code",
   "execution_count": 277,
   "metadata": {
    "collapsed": false
   },
   "outputs": [
    {
     "name": "stderr",
     "output_type": "stream",
     "text": [
      "/home/ssahu/anaconda3/lib/python3.5/site-packages/ipykernel/__main__.py:40: RuntimeWarning: divide by zero encountered in true_divide\n",
      "/home/ssahu/anaconda3/lib/python3.5/site-packages/ipykernel/__main__.py:40: RuntimeWarning: invalid value encountered in true_divide\n"
     ]
    }
   ],
   "source": [
    "# wmodes = np.empty((5, zlevels[1:].shape[0], N2.shape[1], N2.shape[2]))\n",
    "# pmodes = np.empty_like(wmodes)\n",
    "# rmodes = np.empty_like(wmodes)\n",
    "# ce = np.empty((N2.shape[1], N2.shape[2]))\n",
    "\n",
    "\n",
    "# for i in np.arange(N2.shape[1]):\n",
    "#     for j in np.arange(N2.shape[2]):\n",
    "# (wmodes[:,:,i,j], pmodes[:,:,i,j], rmodes[:,:,i,j], ce[i,j]) = dynmodes(N2[:,i,j],zlevels[1:], 5)\n",
    "     \n",
    "    \n",
    "wmodes, pmodes, rmodes, ce = dynmodes(N2[:,384,98],zlevels[1:], 5)"
   ]
  },
  {
   "cell_type": "code",
   "execution_count": 274,
   "metadata": {
    "collapsed": false
   },
   "outputs": [
    {
     "name": "stderr",
     "output_type": "stream",
     "text": [
      "/home/ssahu/anaconda3/lib/python3.5/site-packages/ipykernel/__main__.py:40: RuntimeWarning: divide by zero encountered in true_divide\n",
      "/home/ssahu/anaconda3/lib/python3.5/site-packages/ipykernel/__main__.py:40: RuntimeWarning: invalid value encountered in true_divide\n"
     ]
    }
   ],
   "source": [
    "wmodes, pmodes, rmodes, ce = dynmodes(N2[:,384,98],zlevels[1:], 2)"
   ]
  },
  {
   "cell_type": "code",
   "execution_count": 282,
   "metadata": {
    "collapsed": false
   },
   "outputs": [
    {
     "data": {
      "image/png": "[encoded data removed]",
      "text/plain": [
       "<matplotlib.figure.Figure at 0x7fcf68260b70>"
      ]
     },
     "metadata": {},
     "output_type": "display_data"
    }
   ],
   "source": [
    "plot_modes(N2[:,384,98], zlevels[1:], 2, wmodes[1:25], pmodes, rmodes)"
   ]
  },
  {
   "cell_type": "code",
   "execution_count": 278,
   "metadata": {
    "collapsed": false
   },
   "outputs": [
    {
     "data": {
      "text/plain": [
       "array([  0.,   0.,   0.,   0.,   0.,   0.,   0.,   0.,   0.,   0.,   0.,\n",
       "         0.,   0.,   0.,   0.,   0.,   0.,   0.,   0.,   0.,   0.,   0.,\n",
       "         0.,   0.,   0.,   0.,   0.,   0.,   0.,   0.,   0.,   0.,   0.,\n",
       "         0.,   0.,   0.,   0.,  inf,   0.])"
      ]
     },
     "execution_count": 278,
     "metadata": {},
     "output_type": "execute_result"
    }
   ],
   "source": [
    "ce"
   ]
  },
  {
   "cell_type": "code",
   "execution_count": null,
   "metadata": {
    "collapsed": true
   },
   "outputs": [],
   "source": []
  },
  {
   "cell_type": "code",
   "execution_count": 279,
   "metadata": {
    "collapsed": false
   },
   "outputs": [
    {
     "data": {
      "text/plain": [
       "array([  0.,   0.,   0.,   0.,   0.,   0.,   0.,   0.,   0.,   0.,   0.,\n",
       "         0.,   0.,   0.,   0.,   0.,   0.,   0.,   0.,   0.,   0.,   0.,\n",
       "         0.,   0.,   0.,   0.,   0.,   0.,   0.,   0.,   0.,   0.,   0.,\n",
       "         0.,   0.,   0.,   0.,  inf,   0.])"
      ]
     },
     "execution_count": 279,
     "metadata": {},
     "output_type": "execute_result"
    }
   ],
   "source": [
    "ce"
   ]
  },
  {
   "cell_type": "code",
   "execution_count": 245,
   "metadata": {
    "collapsed": false
   },
   "outputs": [
    {
     "data": {
      "text/plain": [
       "(5, 39, 390, 290)"
      ]
     },
     "execution_count": 245,
     "metadata": {},
     "output_type": "execute_result"
    }
   ],
   "source": [
    "wmodes.shape"
   ]
  },
  {
   "cell_type": "code",
   "execution_count": 66,
   "metadata": {
    "collapsed": false
   },
   "outputs": [
    {
     "data": {
      "text/plain": [
       "array([False, False, False, False, False, False, False, False, False,\n",
       "       False, False, False, False, False, False, False, False, False,\n",
       "       False, False, False, False, False, False, False, False, False,\n",
       "       False, False, False, False, False, False, False, False, False,\n",
       "       False, False, False], dtype=bool)"
      ]
     },
     "execution_count": 66,
     "metadata": {},
     "output_type": "execute_result"
    }
   ],
   "source": [
    "np.isinf(N2[:,0,0])"
   ]
  },
  {
   "cell_type": "code",
   "execution_count": 233,
   "metadata": {
    "collapsed": false
   },
   "outputs": [
    {
     "data": {
      "text/plain": [
       "array([], shape=(0, 39), dtype=float64)"
      ]
     },
     "execution_count": 233,
     "metadata": {},
     "output_type": "execute_result"
    }
   ],
   "source": [
    "wmodes"
   ]
  },
  {
   "cell_type": "code",
   "execution_count": 15,
   "metadata": {
    "collapsed": false
   },
   "outputs": [],
   "source": [
    "depth = zlevels\n",
    "\n",
    "\n",
    "zed = -depth\n",
    "# Number and size (in [m]) of vertical coordinate grid steps\n",
    "nz = zed.size\n",
    "dz = zed[:nz - 1] - zed[1:]\n",
    "# Grid step midpoints\n",
    "z_mid = zed[:nz - 1] - 0.5 * dz[:nz - 1]"
   ]
  },
  {
   "cell_type": "code",
   "execution_count": 16,
   "metadata": {
    "collapsed": false
   },
   "outputs": [
    {
     "data": {
      "text/plain": [
       "(38,)"
      ]
     },
     "execution_count": 16,
     "metadata": {},
     "output_type": "execute_result"
    }
   ],
   "source": [
    "z_mid.shape"
   ]
  },
  {
   "cell_type": "code",
   "execution_count": 17,
   "metadata": {
    "collapsed": false
   },
   "outputs": [
    {
     "data": {
      "text/plain": [
       "40"
      ]
     },
     "execution_count": 17,
     "metadata": {},
     "output_type": "execute_result"
    }
   ],
   "source": [
    "nz"
   ]
  },
  {
   "cell_type": "code",
   "execution_count": 31,
   "metadata": {
    "collapsed": false
   },
   "outputs": [],
   "source": [
    "dz_mid = np.zeros_like(zed)\n",
    "dz_mid[1:dz_mid.size - 1] = z_mid[:nz - 2] - z_mid[:nz - 1]"
   ]
  },
  {
   "cell_type": "code",
   "execution_count": 32,
   "metadata": {
    "collapsed": false
   },
   "outputs": [
    {
     "data": {
      "text/plain": [
       "(38,)"
      ]
     },
     "execution_count": 32,
     "metadata": {},
     "output_type": "execute_result"
    }
   ],
   "source": [
    "z_mid[:nz - 2].shape"
   ]
  },
  {
   "cell_type": "code",
   "execution_count": 34,
   "metadata": {
    "collapsed": false
   },
   "outputs": [
    {
     "data": {
      "text/plain": [
       "(38,)"
      ]
     },
     "execution_count": 34,
     "metadata": {},
     "output_type": "execute_result"
    }
   ],
   "source": [
    "z_mid[:nz - 1].shape"
   ]
  },
  {
   "cell_type": "code",
   "execution_count": 36,
   "metadata": {
    "collapsed": true
   },
   "outputs": [],
   "source": [
    "dz_mid[0] = dz_mid[1]\n",
    "dz_mid[dz_mid.size - 1] = dz_mid[dz_mid.size - 2]\n",
    "# 2nd derivative matrix matrix\n",
    "d2dz2 = np.zeros((nz, nz))\n",
    "# Elements on the diagonal\n",
    "diag_index = np.arange(1, nz - 1)"
   ]
  },
  {
   "cell_type": "code",
   "execution_count": 38,
   "metadata": {
    "collapsed": false
   },
   "outputs": [
    {
     "data": {
      "text/plain": [
       "(38,)"
      ]
     },
     "execution_count": 38,
     "metadata": {},
     "output_type": "execute_result"
    }
   ],
   "source": [
    "dz[:nz - 2].shape"
   ]
  },
  {
   "cell_type": "code",
   "execution_count": 39,
   "metadata": {
    "collapsed": false
   },
   "outputs": [
    {
     "data": {
      "text/plain": [
       "(38,)"
      ]
     },
     "execution_count": 39,
     "metadata": {},
     "output_type": "execute_result"
    }
   ],
   "source": [
    "dz_mid[1:nz - 1].shape"
   ]
  },
  {
   "cell_type": "code",
   "execution_count": 40,
   "metadata": {
    "collapsed": false
   },
   "outputs": [
    {
     "data": {
      "text/plain": [
       "(37,)"
      ]
     },
     "execution_count": 40,
     "metadata": {},
     "output_type": "execute_result"
    }
   ],
   "source": [
    "dz[1:nz - 1].shape"
   ]
  },
  {
   "cell_type": "code",
   "execution_count": 41,
   "metadata": {
    "collapsed": false
   },
   "outputs": [
    {
     "data": {
      "text/plain": [
       "(38,)"
      ]
     },
     "execution_count": 41,
     "metadata": {},
     "output_type": "execute_result"
    }
   ],
   "source": [
    "dz_mid[1:nz - 1].shape"
   ]
  },
  {
   "cell_type": "code",
   "execution_count": 44,
   "metadata": {
    "collapsed": false
   },
   "outputs": [
    {
     "name": "stderr",
     "output_type": "stream",
     "text": [
      "/home/ssahu/anaconda3/lib/python3.5/site-packages/xarray/core/variable.py:1047: RuntimeWarning: divide by zero encountered in true_divide\n",
      "  else f(other_data, self_data))\n"
     ]
    }
   ],
   "source": [
    "d2dz2[diag_index, diag_index] = (\n",
    "    1 / (dz[:nz - 2] * dz_mid[1:nz - 1]) + 1 / (dz[:nz - 1] * dz_mid[1:nz - 1]))"
   ]
  },
  {
   "cell_type": "code",
   "execution_count": 46,
   "metadata": {
    "collapsed": false
   },
   "outputs": [
    {
     "name": "stderr",
     "output_type": "stream",
     "text": [
      "/home/ssahu/anaconda3/lib/python3.5/site-packages/xarray/core/variable.py:1047: RuntimeWarning: divide by zero encountered in true_divide\n",
      "  else f(other_data, self_data))\n"
     ]
    }
   ],
   "source": [
    "diag_index_p1 = np.arange(2, nz)\n",
    "d2dz2[diag_index, diag_index_p1] = -1 / (dz[:nz - 2] * dz_mid[1:nz - 1])"
   ]
  },
  {
   "cell_type": "code",
   "execution_count": 49,
   "metadata": {
    "collapsed": false
   },
   "outputs": [
    {
     "name": "stderr",
     "output_type": "stream",
     "text": [
      "/home/ssahu/anaconda3/lib/python3.5/site-packages/xarray/core/variable.py:1047: RuntimeWarning: divide by zero encountered in true_divide\n",
      "  else f(other_data, self_data))\n"
     ]
    }
   ],
   "source": [
    "diag_index_m1 = np.arange(nz - 2)\n",
    "d2dz2[diag_index, diag_index_m1] = -1 / (dz[:nz - 1] * dz_mid[1:nz - 1])"
   ]
  },
  {
   "cell_type": "code",
   "execution_count": 48,
   "metadata": {
    "collapsed": false
   },
   "outputs": [
    {
     "data": {
      "text/plain": [
       "(37,)"
      ]
     },
     "execution_count": 48,
     "metadata": {},
     "output_type": "execute_result"
    }
   ],
   "source": [
    "dz[1:nz - 1].shape"
   ]
  },
  {
   "cell_type": "code",
   "execution_count": 144,
   "metadata": {
    "collapsed": true
   },
   "outputs": [],
   "source": [
    "def build_d2dz2_matrix(depth):\n",
    "    \"\"\"Build the matrix that discretizes the 2nd derivative\n",
    "    over the vertical coordinate, and applies the boundary conditions.\n",
    "    \"\"\"\n",
    "    zed = -depth\n",
    "    # Number and size (in [m]) of vertical coordinate grid steps\n",
    "    nz = zed.size\n",
    "    dz = zed[:nz] - zed[1:-1]\n",
    "    # Grid step midpoints\n",
    "    z_mid = zed[:nz - 1] - 0.5 * dz[:nz - 1]\n",
    "    # Size of steps between grid step midpoints\n",
    "    dz_mid = np.zeros_like(zed)\n",
    "#     for i in np.arange(1,nz):\n",
    "#         dz_mid[i] = z_mid[i - 2] - z_mid[i-1]\n",
    "    dz_mid[1:dz_mid.size - 1] = z_mid[:nz - 2] - z_mid[:nz - 1]\n",
    "    dz_mid[0] = dz_mid[1]\n",
    "    dz_mid[dz_mid.size - 1] = dz_mid[dz_mid.size - 2]\n",
    "    # 2nd derivative matrix matrix\n",
    "    d2dz2 = np.zeros((nz, nz))\n",
    "    # Elements on the diagonal\n",
    "    diag_index = np.arange(1, nz - 1)\n",
    "    d2dz2[diag_index, diag_index] = (\n",
    "        1 / (dz[:nz - 2] * dz_mid[1:nz - 1]) + 1 / (dz[:nz - 1] * dz_mid[1:nz - 1]))\n",
    "    # Elements on the super-diagonal\n",
    "    diag_index_p1 = np.arange(2, nz)\n",
    "    d2dz2[diag_index, diag_index_p1] = -1 / (dz[:nz - 2] * dz_mid[1:nz - 1])\n",
    "    # Elements on the sub-diagonal\n",
    "    diag_index_m1 = np.arange(nz - 2)\n",
    "    d2dz2[diag_index, diag_index_m1] = -1 / (dz[:nz - 1] * dz_mid[1:nz - 1])\n",
    "    # Boundary conditions\n",
    "    d2dz2[0, 0] = d2dz2[nz - 1, 0] = -1\n",
    "    from numpy import inf\n",
    "\n",
    "    d2dz2[d2dz2 == -inf] = 0\n",
    "    d2dz2[d2dz2 == inf] = 0\n",
    "    return d2dz2, nz, dz\n",
    "\n",
    "\n",
    "\"\"\"Ocean vertical dynamic modes exercise code for Mathematical Modelling of Geophysical\n",
    "Fluids MPE2013 Workshop at African Institute for Mathematical Sciences.\n",
    "\"\"\"\n",
    "import matplotlib.pyplot as plt\n",
    "import numpy as np\n",
    "import scipy.linalg\n",
    "\n",
    "\n",
    "def dynmodes(Nsq, depth, nmodes):\n",
    "    \"\"\"Calculate the 1st nmodes ocean dynamic vertical modes\n",
    "    given a profile of Brunt-Vaisala (buoyancy) frequencies squared.\n",
    "\n",
    "    Based on http://woodshole.er.usgs.gov/operations/sea-mat/klinck-html/dynmodes.html\n",
    "    by John Klinck, 1999.\n",
    "\n",
    "    :arg Nsq: Brunt-Vaisala (buoyancy) frequencies squared in [1/s^2]\n",
    "    :type Nsq: :class:`numpy.ndarray`\n",
    "\n",
    "    :arg depth: Depths in [m]\n",
    "    :type depth: :class:`numpy.ndarray`\n",
    "\n",
    "    :arg nmodes: Number of modes to calculate\n",
    "    :type nmodes: int\n",
    "\n",
    "    :returns: :obj:`(wmodes, pmodes, rmodes, ce)` vertical velocity modes,\n",
    "              horizontal velocity modes, vertical density modes, modal speeds\n",
    "    :rtype: tuple of :class:`numpy.ndarray`\n",
    "    \"\"\"\n",
    "    # 2nd derivative matrix plus boundary conditions\n",
    "    d2dz2, nz, dz = build_d2dz2_matrix(depth)\n",
    "    # N-squared diagonal matrix\n",
    "    Nsq_mat = np.identity(nz) * Nsq\n",
    "    # Solve generalized eigenvalue problem for eigenvalues and vertical\n",
    "    # velocity modes\n",
    "    eigenvalues, wmodes = scipy.linalg.eig(d2dz2, Nsq_mat)\n",
    "    eigenvalues, wmodes = clean_up_modes(eigenvalues, wmodes, nmodes)\n",
    "    # Vertical density modes\n",
    "    rmodes = wmodes * Nsq\n",
    "    # Modal speeds\n",
    "    ce = np.real(1 / np.sqrt(eigenvalues))\n",
    "    # Horizontal velocity modes\n",
    "    pmodes = np.zeros_like(wmodes)\n",
    "    # 1st derivative of vertical modes\n",
    "    pr = np.diff(wmodes) / dz\n",
    "    # Linear interpolation on to the vertical coordinate grid\n",
    "    pmodes[:, 1:nz - 1] = (pr[:, 1:nz - 1] + pr[:, :nz - 2]) / 2\n",
    "    pmodes[:, 0] = pr[:, 0]\n",
    "    pmodes[:, nz - 1] = pr[:, nz - 2]\n",
    "    return wmodes, pmodes, rmodes, ce\n",
    "\n",
    "\n",
    "# def build_d2dz2_matrix(depth):\n",
    "#     \"\"\"Build the matrix that discretizes the 2nd derivative\n",
    "#     over the vertical coordinate, and applies the boundary conditions.\n",
    "\n",
    "#     :arg depth: Depths in [m]\n",
    "#     :type depth: :class:`numpy.ndarray`\n",
    "\n",
    "#     :returns: :obj:`(d2dz2, nz, dz)` 2nd derivative matrix\n",
    "#               (:class:`numpy.ndarray`),\n",
    "#               number of vertical coordinate grid steps,\n",
    "#               and array of vertical coordinate grid point spacings\n",
    "#               (:class:`numpy.ndarray`)\n",
    "#     :rtype: tuple\n",
    "#     \"\"\"\n",
    "#     zed = -depth\n",
    "#     # Number and size (in [m]) of vertical coordinate grid steps\n",
    "#     nz = zed.size\n",
    "#     dz = zed[:nz - 1] - zed[1:]\n",
    "#     # Grid step midpoints\n",
    "#     z_mid = zed[:nz - 1] - 0.5 * dz[:nz - 1]\n",
    "#     # Size of steps between grid step midpoints\n",
    "#     dz_mid = np.zeros_like(zed)\n",
    "#     dz_mid[1:dz_mid.size - 1] = z_mid[:nz - 2] - z_mid[1:nz - 1]\n",
    "#     dz_mid[0] = dz_mid[1]\n",
    "#     dz_mid[dz_mid.size - 1] = dz_mid[dz_mid.size - 2]\n",
    "#     # 2nd derivative matrix matrix\n",
    "#     d2dz2 = np.zeros((nz, nz))\n",
    "#     # Elements on the diagonal\n",
    "#     diag_index = np.arange(1, nz - 1)\n",
    "#     d2dz2[diag_index, diag_index] = (\n",
    "#         1 / (dz[:nz - 2] * dz_mid[1:nz - 1]) + 1 / (dz[1:nz - 1] * dz_mid[1:nz - 1]))\n",
    "#     # Elements on the super-diagonal\n",
    "#     diag_index_p1 = np.arange(2, nz)\n",
    "#     d2dz2[diag_index, diag_index_p1] = -1 / (dz[:nz - 2] * dz_mid[1:nz - 1])\n",
    "#     # Elements on the sub-diagonal\n",
    "#     diag_index_m1 = np.arange(nz - 2)\n",
    "#     d2dz2[diag_index, diag_index_m1] = -1 / (dz[1:nz - 1] * dz_mid[1:nz - 1])\n",
    "#     # Boundary conditions\n",
    "#     d2dz2[0, 0] = d2dz2[nz - 1, 0] = -1\n",
    "#     return d2dz2, nz, dz\n",
    "\n",
    "\n",
    "def clean_up_modes(eigenvalues, wmodes, nmodes):\n",
    "    \"\"\"Exclude complex-valued and near-zero/negative eigenvalues and their modes.\n",
    "    Sort the eigenvalues and mode by increasing eigenvalue magnitude,\n",
    "    truncate the results to the number of modes that were requested,\n",
    "    and convert the modes from complex to real numbers.\n",
    "\n",
    "    :arg eigenvalues: Eigenvalues\n",
    "    :type eigenvalues: :class:`numpy.ndarray`\n",
    "\n",
    "    :arg wmodes: Modes\n",
    "    :type wmodes: :class:`numpy.ndarray`\n",
    "\n",
    "    :arg nmodes: Number of modes requested\n",
    "    :type nmodes: int\n",
    "\n",
    "    :returns: :obj:`(eigenvalues, wmodes)`\n",
    "    :rtype: tuple of :class:`numpy.ndarray`\n",
    "    \"\"\"\n",
    "    # Transpose modes to that they can be handled as an array of vectors\n",
    "    wmodes = wmodes.transpose()\n",
    "    # Filter out complex-values and small/negative eigenvalues\n",
    "    # and corresponding modes\n",
    "    mask = np.imag(eigenvalues) == 0\n",
    "    eigenvalues = eigenvalues[mask]\n",
    "    wmodes = wmodes[mask]\n",
    "    mask = eigenvalues >= 1e-10\n",
    "    eigenvalues = eigenvalues[mask]\n",
    "    wmodes = wmodes[mask]\n",
    "    # Sort eigenvalues and modes and truncate to number of modes requests\n",
    "    index = np.argsort(eigenvalues)\n",
    "    eigenvalues = eigenvalues[index[:nmodes]]\n",
    "    wmodes = wmodes[index[:nmodes]]\n",
    "    return eigenvalues, wmodes.real\n",
    "\n",
    "\n",
    "def plot_modes(Nsq, depth, nmodes, wmodes, pmodes, rmodes):\n",
    "    \"\"\"Plot Brunt-Vaisala (buoyancy) frequency profile and 3 sets of modes\n",
    "    (vertical velocity, horizontal velocity, and vertical density) in 4 panes.\n",
    "\n",
    "    :arg Nsq: Brunt-Vaisala (buoyancy) frequencies squared in [1/s^2]\n",
    "    :type Nsq: :class:`numpy.ndarray`\n",
    "\n",
    "    :arg depth: Depths in [m]\n",
    "    :type depth: :class:`numpy.ndarray`\n",
    "\n",
    "    :arg wmodes: Vertical velocity modes\n",
    "    :type wmodes: :class:`numpy.ndarray`\n",
    "\n",
    "    :arg pmodes: Horizontal velocity modes\n",
    "    :type pmodes: :class:`numpy.ndarray`\n",
    "\n",
    "    :arg rmodes: Vertical density modes\n",
    "    :type rmodes: :class:`numpy.ndarray`\n",
    "\n",
    "    :arg nmodes: Number of modes to calculate\n",
    "    :type nmodes: int\n",
    "    \"\"\"\n",
    "    fig = plt.figure(figsize=(10, 10))\n",
    "    ax = fig.add_subplot(2, 2, 1)\n",
    "    # Nsq\n",
    "    ax.plot(Nsq, -depth)\n",
    "    ax.ticklabel_format(style='sci', scilimits=(2, 2), axis='x')\n",
    "    ax.set_ylabel('z')\n",
    "    ax.set_xlabel('N^2')\n",
    "    # modes\n",
    "    mode_sets = [\n",
    "        # (values, subplot number, x-axis title)\n",
    "        (wmodes, 2, 'wmodes'),\n",
    "        (pmodes, 3, 'pmodes'),\n",
    "        (rmodes, 4, 'rmodes'),\n",
    "    ]\n",
    "    for mode_set in mode_sets:\n",
    "        modes, subplot, title = mode_set\n",
    "        ax = fig.add_subplot(2, 2, subplot)\n",
    "        for i in xrange(nmodes):\n",
    "            ax.plot(modes[i], -depth, label='mode {}'.format(i + 1))\n",
    "        ax.ticklabel_format(style='sci', scilimits=(3, 3), axis='x')\n",
    "        ax.set_ylabel('z')\n",
    "        ax.set_xlabel(title)\n",
    "        ax.legend(loc='best')\n",
    "\n",
    "\n",
    "def read_density_profile(filename):\n",
    "    \"\"\"Return depth and density arrays read from filename.\n",
    "\n",
    "    :arg filename: Name of density profile file.\n",
    "    :type filename: string\n",
    "\n",
    "    :returns: :obj:`(depth, density)` depths, densities\n",
    "    :rtype: tuple of :class:`numpy.ndarray`\n",
    "    \"\"\"\n",
    "    depth = []\n",
    "    density = []\n",
    "    with open(filename) as f:\n",
    "        for line in interesting_lines(f):\n",
    "            deep, rho = map(float, line.split())\n",
    "            depth.append(deep)\n",
    "            density.append(rho)\n",
    "    return np.array(depth), np.array(density)\n",
    "\n",
    "\n",
    "def interesting_lines(f):\n",
    "    for line in f:\n",
    "        if line and not line.startswith('#'):\n",
    "            yield line\n",
    "\n",
    "\n",
    "def density2Nsq(depth, density, rho0=1028):\n",
    "    \"\"\"Return the Brunt-Vaisala (buoyancy) frequency (Nsq) profile\n",
    "    corresponding to the given density profile.\n",
    "    The surface Nsq value is set to the value of the 1st calculated value\n",
    "    below the surface.\n",
    "    Also return the depths for which the Brunt-Vaisala (buoyancy) frequencies squared\n",
    "    were calculated.\n",
    "\n",
    "    :arg depth: Depths in [m]\n",
    "    :type depth: :class:`numpy.ndarray`\n",
    "\n",
    "    :arg density: Densities in [kg/m^3]\n",
    "    :type density: :class:`numpy.ndarray`\n",
    "\n",
    "    :arg rho0: Reference density in [kg/m^3]; defaults to 1028\n",
    "    :type rho0: number\n",
    "\n",
    "    :returns: :obj:`(Nsq_depth, Nsq)` depths for which the Brunt-Vaisala\n",
    "              (buoyancy) frequencies squared were calculated,\n",
    "              Brunt-Vaisala (buoyancy) frequencies squared\n",
    "    :rtype: tuple of :class:`numpy.ndarray`\n",
    "    \"\"\"\n",
    "    grav_acc = 9.8  # m / s^2\n",
    "    Nsq = np.zeros_like(density)\n",
    "    Nsq[1:] = np.diff(density) * grav_acc / (np.diff(depth) * rho0)\n",
    "    Nsq[0] = Nsq[1]\n",
    "    Nsq[Nsq < 0] = 0\n",
    "    Nsq_depth = np.zeros_like(depth)\n",
    "    Nsq_depth[1:] = (depth[:depth.size - 1] + depth[1:]) / 2\n",
    "    return Nsq_depth, Nsq"
   ]
  },
  {
   "cell_type": "code",
   "execution_count": 145,
   "metadata": {
    "collapsed": false
   },
   "outputs": [
    {
     "name": "stderr",
     "output_type": "stream",
     "text": [
      "/home/ssahu/anaconda3/lib/python3.5/site-packages/xarray/core/variable.py:1047: RuntimeWarning: divide by zero encountered in true_divide\n",
      "  else f(other_data, self_data))\n"
     ]
    },
    {
     "ename": "ValueError",
     "evalue": "operands could not be broadcast together with shapes (0,38) (35,) ",
     "output_type": "error",
     "traceback": [
      "\u001b[0;31m---------------------------------------------------------------------------\u001b[0m",
      "\u001b[0;31mValueError\u001b[0m                                Traceback (most recent call last)",
      "\u001b[0;32m<ipython-input-145-be31af5384d5>\u001b[0m in \u001b[0;36m<module>\u001b[0;34m()\u001b[0m\n\u001b[0;32m----> 1\u001b[0;31m \u001b[0;34m(\u001b[0m\u001b[0mwmodes\u001b[0m\u001b[0;34m,\u001b[0m \u001b[0mpmodes\u001b[0m\u001b[0;34m,\u001b[0m \u001b[0mrmodes\u001b[0m\u001b[0;34m,\u001b[0m \u001b[0mce\u001b[0m\u001b[0;34m)\u001b[0m \u001b[0;34m=\u001b[0m \u001b[0mdynmodes\u001b[0m\u001b[0;34m(\u001b[0m\u001b[0mN2\u001b[0m\u001b[0;34m[\u001b[0m\u001b[0;34m:\u001b[0m\u001b[0;34m,\u001b[0m\u001b[0;36m0\u001b[0m\u001b[0;34m,\u001b[0m\u001b[0;36m0\u001b[0m\u001b[0;34m]\u001b[0m\u001b[0;34m,\u001b[0m \u001b[0mzlevels\u001b[0m\u001b[0;34m[\u001b[0m\u001b[0;36m1\u001b[0m\u001b[0;34m:\u001b[0m\u001b[0;34m]\u001b[0m\u001b[0;34m,\u001b[0m \u001b[0;36m2\u001b[0m\u001b[0;34m)\u001b[0m\u001b[0;34m\u001b[0m\u001b[0m\n\u001b[0m",
      "\u001b[0;32m<ipython-input-144-fa6bdbe05beb>\u001b[0m in \u001b[0;36mdynmodes\u001b[0;34m(Nsq, depth, nmodes)\u001b[0m\n\u001b[1;32m     80\u001b[0m     \u001b[0mpmodes\u001b[0m \u001b[0;34m=\u001b[0m \u001b[0mnp\u001b[0m\u001b[0;34m.\u001b[0m\u001b[0mzeros_like\u001b[0m\u001b[0;34m(\u001b[0m\u001b[0mwmodes\u001b[0m\u001b[0;34m)\u001b[0m\u001b[0;34m\u001b[0m\u001b[0m\n\u001b[1;32m     81\u001b[0m     \u001b[0;31m# 1st derivative of vertical modes\u001b[0m\u001b[0;34m\u001b[0m\u001b[0;34m\u001b[0m\u001b[0m\n\u001b[0;32m---> 82\u001b[0;31m     \u001b[0mpr\u001b[0m \u001b[0;34m=\u001b[0m \u001b[0mnp\u001b[0m\u001b[0;34m.\u001b[0m\u001b[0mdiff\u001b[0m\u001b[0;34m(\u001b[0m\u001b[0mwmodes\u001b[0m\u001b[0;34m)\u001b[0m \u001b[0;34m/\u001b[0m \u001b[0mdz\u001b[0m\u001b[0;34m[\u001b[0m\u001b[0;36m2\u001b[0m\u001b[0;34m:\u001b[0m\u001b[0;34m]\u001b[0m\u001b[0;34m\u001b[0m\u001b[0m\n\u001b[0m\u001b[1;32m     83\u001b[0m     \u001b[0;31m# Linear interpolation on to the vertical coordinate grid\u001b[0m\u001b[0;34m\u001b[0m\u001b[0;34m\u001b[0m\u001b[0m\n\u001b[1;32m     84\u001b[0m     \u001b[0mpmodes\u001b[0m\u001b[0;34m[\u001b[0m\u001b[0;34m:\u001b[0m\u001b[0;34m,\u001b[0m \u001b[0;36m1\u001b[0m\u001b[0;34m:\u001b[0m\u001b[0mnz\u001b[0m \u001b[0;34m-\u001b[0m \u001b[0;36m1\u001b[0m\u001b[0;34m]\u001b[0m \u001b[0;34m=\u001b[0m \u001b[0;34m(\u001b[0m\u001b[0mpr\u001b[0m\u001b[0;34m[\u001b[0m\u001b[0;34m:\u001b[0m\u001b[0;34m,\u001b[0m \u001b[0;36m1\u001b[0m\u001b[0;34m:\u001b[0m\u001b[0mnz\u001b[0m \u001b[0;34m-\u001b[0m \u001b[0;36m1\u001b[0m\u001b[0;34m]\u001b[0m \u001b[0;34m+\u001b[0m \u001b[0mpr\u001b[0m\u001b[0;34m[\u001b[0m\u001b[0;34m:\u001b[0m\u001b[0;34m,\u001b[0m \u001b[0;34m:\u001b[0m\u001b[0mnz\u001b[0m \u001b[0;34m-\u001b[0m \u001b[0;36m2\u001b[0m\u001b[0;34m]\u001b[0m\u001b[0;34m)\u001b[0m \u001b[0;34m/\u001b[0m \u001b[0;36m2\u001b[0m\u001b[0;34m\u001b[0m\u001b[0m\n",
      "\u001b[0;32m/home/ssahu/anaconda3/lib/python3.5/site-packages/xarray/core/dataarray.py\u001b[0m in \u001b[0;36mfunc\u001b[0;34m(self, other)\u001b[0m\n\u001b[1;32m   1299\u001b[0m             variable = (f(self.variable, other_variable)\n\u001b[1;32m   1300\u001b[0m                         \u001b[0;32mif\u001b[0m \u001b[0;32mnot\u001b[0m \u001b[0mreflexive\u001b[0m\u001b[0;34m\u001b[0m\u001b[0m\n\u001b[0;32m-> 1301\u001b[0;31m                         else f(other_variable, self.variable))\n\u001b[0m\u001b[1;32m   1302\u001b[0m             \u001b[0mcoords\u001b[0m \u001b[0;34m=\u001b[0m \u001b[0mself\u001b[0m\u001b[0;34m.\u001b[0m\u001b[0mcoords\u001b[0m\u001b[0;34m.\u001b[0m\u001b[0m_merge_raw\u001b[0m\u001b[0;34m(\u001b[0m\u001b[0mother_coords\u001b[0m\u001b[0;34m)\u001b[0m\u001b[0;34m\u001b[0m\u001b[0m\n\u001b[1;32m   1303\u001b[0m             \u001b[0mname\u001b[0m \u001b[0;34m=\u001b[0m \u001b[0mself\u001b[0m\u001b[0;34m.\u001b[0m\u001b[0m_result_name\u001b[0m\u001b[0;34m(\u001b[0m\u001b[0mother\u001b[0m\u001b[0;34m)\u001b[0m\u001b[0;34m\u001b[0m\u001b[0m\n",
      "\u001b[0;32m/home/ssahu/anaconda3/lib/python3.5/site-packages/xarray/core/variable.py\u001b[0m in \u001b[0;36mfunc\u001b[0;34m(self, other)\u001b[0m\n\u001b[1;32m   1045\u001b[0m             new_data = (f(self_data, other_data)\n\u001b[1;32m   1046\u001b[0m                         \u001b[0;32mif\u001b[0m \u001b[0;32mnot\u001b[0m \u001b[0mreflexive\u001b[0m\u001b[0;34m\u001b[0m\u001b[0m\n\u001b[0;32m-> 1047\u001b[0;31m                         else f(other_data, self_data))\n\u001b[0m\u001b[1;32m   1048\u001b[0m             \u001b[0mresult\u001b[0m \u001b[0;34m=\u001b[0m \u001b[0mVariable\u001b[0m\u001b[0;34m(\u001b[0m\u001b[0mdims\u001b[0m\u001b[0;34m,\u001b[0m \u001b[0mnew_data\u001b[0m\u001b[0;34m)\u001b[0m\u001b[0;34m\u001b[0m\u001b[0m\n\u001b[1;32m   1049\u001b[0m             \u001b[0;32mreturn\u001b[0m \u001b[0mresult\u001b[0m\u001b[0;34m\u001b[0m\u001b[0m\n",
      "\u001b[0;31mValueError\u001b[0m: operands could not be broadcast together with shapes (0,38) (35,) "
     ]
    }
   ],
   "source": [
    "(wmodes, pmodes, rmodes, ce) = dynmodes(N2[:,0,0], zlevels[1:], 2)"
   ]
  },
  {
   "cell_type": "code",
   "execution_count": 131,
   "metadata": {
    "collapsed": false
   },
   "outputs": [
    {
     "data": {
      "text/plain": [
       "(38,)"
      ]
     },
     "execution_count": 131,
     "metadata": {},
     "output_type": "execute_result"
    }
   ],
   "source": [
    "dz.shape"
   ]
  },
  {
   "cell_type": "code",
   "execution_count": 89,
   "metadata": {
    "collapsed": true
   },
   "outputs": [],
   "source": [
    "depth = zlevels\n",
    "\n",
    "zed = -depth\n",
    "# Number and size (in [m]) of vertical coordinate grid steps\n",
    "nz = zed.size\n",
    "dz = zed[:nz] - zed[1:]"
   ]
  },
  {
   "cell_type": "code",
   "execution_count": 90,
   "metadata": {
    "collapsed": false
   },
   "outputs": [
    {
     "data": {
      "text/plain": [
       "(39,)"
      ]
     },
     "execution_count": 90,
     "metadata": {},
     "output_type": "execute_result"
    }
   ],
   "source": [
    "d2dz2[diag_index, diag_index] = (\n",
    "    1 / (dz[:nz - 2] * dz_mid[1:nz - 1]) + 1 / (dz[:nz - 1] * dz_mid[1:nz - 1]))\n",
    "# Elements on the super-diagonal\n",
    "diag_index_p1 = np.arange(2, nz)\n",
    "d2dz2[diag_index, diag_index_p1] = -1 / (dz[:nz - 2] * dz_mid[1:nz - 1])\n",
    "# Elements on the sub-diagonal\n",
    "diag_index_m1 = np.arange(nz - 2)\n",
    "d2dz2[diag_index, diag_index_m1] = -1 / (dz[:nz - 1] * dz_mid[1:nz - 1])\n",
    "# Boundary conditions\n",
    "d2dz2[0, 0] = d2dz2[nz - 1, 0] = -1\n",
    "return d2dz2, nz, dz"
   ]
  },
  {
   "cell_type": "code",
   "execution_count": null,
   "metadata": {
    "collapsed": true
   },
   "outputs": [],
   "source": []
  },
  {
   "cell_type": "code",
   "execution_count": 101,
   "metadata": {
    "collapsed": false
   },
   "outputs": [
    {
     "name": "stderr",
     "output_type": "stream",
     "text": [
      "/home/ssahu/anaconda3/lib/python3.5/site-packages/xarray/core/variable.py:1047: RuntimeWarning: divide by zero encountered in true_divide\n",
      "  else f(other_data, self_data))\n"
     ]
    }
   ],
   "source": [
    "d2dz2, nz, dz = build_d2dz2_matrix(zlevels)"
   ]
  },
  {
   "cell_type": "code",
   "execution_count": 106,
   "metadata": {
    "collapsed": false
   },
   "outputs": [],
   "source": [
    "from numpy import inf\n",
    "\n",
    "d2dz2[d2dz2 == -inf] = 0\n",
    "d2dz2[d2dz2 == inf] = 0"
   ]
  },
  {
   "cell_type": "code",
   "execution_count": 108,
   "metadata": {
    "collapsed": false
   },
   "outputs": [
    {
     "data": {
      "text/plain": [
       "array([[-1.,  0.,  0., ...,  0.,  0.,  0.],\n",
       "       [ 0.,  0.,  0., ...,  0.,  0.,  0.],\n",
       "       [ 0.,  0.,  0., ...,  0.,  0.,  0.],\n",
       "       ..., \n",
       "       [ 0.,  0.,  0., ...,  0.,  0.,  0.],\n",
       "       [ 0.,  0.,  0., ...,  0.,  0.,  0.],\n",
       "       [-1.,  0.,  0., ...,  0.,  0.,  0.]])"
      ]
     },
     "execution_count": 108,
     "metadata": {},
     "output_type": "execute_result"
    }
   ],
   "source": [
    "d2dz2"
   ]
  },
  {
   "cell_type": "code",
   "execution_count": 181,
   "metadata": {
    "collapsed": false
   },
   "outputs": [
    {
     "data": {
      "text/plain": [
       "array([[ 0.        ,  0.02108334,  0.        , ...,  0.        ,\n",
       "         0.        ,  0.        ],\n",
       "       [ 0.        ,  0.        ,  1.        , ...,  0.        ,\n",
       "         0.        ,  0.        ],\n",
       "       [ 0.        ,  0.        ,  0.        , ...,  0.        ,\n",
       "         0.        ,  0.        ],\n",
       "       ..., \n",
       "       [ 0.        ,  0.        ,  0.        , ...,  0.        ,\n",
       "         1.        ,  0.        ],\n",
       "       [ 0.        ,  0.        ,  0.        , ...,  0.        ,\n",
       "         0.        ,  1.        ],\n",
       "       [ 1.        ,  0.99977772,  0.        , ...,  0.        ,\n",
       "         0.        ,  0.        ]])"
      ]
     },
     "execution_count": 181,
     "metadata": {},
     "output_type": "execute_result"
    }
   ],
   "source": [
    "wmodes\n"
   ]
  },
  {
   "cell_type": "code",
   "execution_count": 182,
   "metadata": {
    "collapsed": false
   },
   "outputs": [
    {
     "data": {
      "text/plain": [
       "array([     0.00000000+0.j, -25595.67294685+0.j,      0.00000000+0.j,\n",
       "            0.00000000+0.j,      0.00000000+0.j,      0.00000000+0.j,\n",
       "            0.00000000+0.j,      0.00000000+0.j,      0.00000000+0.j,\n",
       "            0.00000000+0.j,      0.00000000+0.j,      0.00000000+0.j,\n",
       "            0.00000000+0.j,      0.00000000+0.j,      0.00000000+0.j,\n",
       "            0.00000000+0.j,      0.00000000+0.j,      0.00000000+0.j,\n",
       "            0.00000000+0.j,      0.00000000+0.j,      0.00000000+0.j,\n",
       "            0.00000000+0.j,      0.00000000+0.j,      0.00000000+0.j,\n",
       "            0.00000000+0.j,      0.00000000+0.j,      0.00000000+0.j,\n",
       "            0.00000000+0.j,      0.00000000+0.j,      0.00000000+0.j,\n",
       "            0.00000000+0.j,      0.00000000+0.j,      0.00000000+0.j,\n",
       "            0.00000000+0.j,      0.00000000+0.j,      0.00000000+0.j,\n",
       "            0.00000000+0.j,      0.00000000+0.j,      0.00000000+0.j])"
      ]
     },
     "execution_count": 182,
     "metadata": {},
     "output_type": "execute_result"
    }
   ],
   "source": [
    "eigenvalues"
   ]
  },
  {
   "cell_type": "code",
   "execution_count": 199,
   "metadata": {
    "collapsed": false
   },
   "outputs": [
    {
     "data": {
      "text/plain": [
       "(37, 37)"
      ]
     },
     "execution_count": 199,
     "metadata": {},
     "output_type": "execute_result"
    }
   ],
   "source": [
    "np.diff(wmodes[:-2,:-1]).shape"
   ]
  },
  {
   "cell_type": "code",
   "execution_count": 196,
   "metadata": {
    "collapsed": false
   },
   "outputs": [
    {
     "data": {
      "text/plain": [
       "(37,)"
      ]
     },
     "execution_count": 196,
     "metadata": {},
     "output_type": "execute_result"
    }
   ],
   "source": [
    "dz.shape"
   ]
  },
  {
   "cell_type": "code",
   "execution_count": 194,
   "metadata": {
    "collapsed": false
   },
   "outputs": [
    {
     "data": {
      "text/plain": [
       "(39, 38)"
      ]
     },
     "execution_count": 194,
     "metadata": {},
     "output_type": "execute_result"
    }
   ],
   "source": [
    "np.diff(wmodes).shape"
   ]
  },
  {
   "cell_type": "code",
   "execution_count": 203,
   "metadata": {
    "collapsed": false
   },
   "outputs": [
    {
     "name": "stderr",
     "output_type": "stream",
     "text": [
      "/home/ssahu/anaconda3/lib/python3.5/site-packages/xarray/core/variable.py:1047: RuntimeWarning: divide by zero encountered in true_divide\n",
      "  else f(other_data, self_data))\n",
      "/home/ssahu/anaconda3/lib/python3.5/site-packages/ipykernel/__main__.py:11: RuntimeWarning: divide by zero encountered in true_divide\n",
      "/home/ssahu/anaconda3/lib/python3.5/site-packages/ipykernel/__main__.py:11: RuntimeWarning: invalid value encountered in true_divide\n"
     ]
    },
    {
     "ename": "ValueError",
     "evalue": "operands could not be broadcast together with shapes (37,38) (37,) ",
     "output_type": "error",
     "traceback": [
      "\u001b[0;31m---------------------------------------------------------------------------\u001b[0m",
      "\u001b[0;31mValueError\u001b[0m                                Traceback (most recent call last)",
      "\u001b[0;32m<ipython-input-203-b5bda945edcd>\u001b[0m in \u001b[0;36m<module>\u001b[0;34m()\u001b[0m\n\u001b[1;32m     13\u001b[0m \u001b[0mpmodes\u001b[0m \u001b[0;34m=\u001b[0m \u001b[0mnp\u001b[0m\u001b[0;34m.\u001b[0m\u001b[0mzeros_like\u001b[0m\u001b[0;34m(\u001b[0m\u001b[0mwmodes\u001b[0m\u001b[0;34m)\u001b[0m\u001b[0;34m\u001b[0m\u001b[0m\n\u001b[1;32m     14\u001b[0m \u001b[0;31m# 1st derivative of vertical modes\u001b[0m\u001b[0;34m\u001b[0m\u001b[0;34m\u001b[0m\u001b[0m\n\u001b[0;32m---> 15\u001b[0;31m \u001b[0mpr\u001b[0m \u001b[0;34m=\u001b[0m \u001b[0mnp\u001b[0m\u001b[0;34m.\u001b[0m\u001b[0mdivide\u001b[0m\u001b[0;34m(\u001b[0m\u001b[0mnp\u001b[0m\u001b[0;34m.\u001b[0m\u001b[0mdiff\u001b[0m\u001b[0;34m(\u001b[0m\u001b[0mwmodes\u001b[0m\u001b[0;34m[\u001b[0m\u001b[0;34m:\u001b[0m\u001b[0;34m-\u001b[0m\u001b[0;36m2\u001b[0m\u001b[0;34m,\u001b[0m\u001b[0;34m:\u001b[0m\u001b[0;34m]\u001b[0m\u001b[0;34m)\u001b[0m\u001b[0;34m,\u001b[0m \u001b[0mdz\u001b[0m\u001b[0;34m)\u001b[0m\u001b[0;34m\u001b[0m\u001b[0m\n\u001b[0m\u001b[1;32m     16\u001b[0m \u001b[0;31m# Linear interpolation on to the vertical coordinate grid\u001b[0m\u001b[0;34m\u001b[0m\u001b[0;34m\u001b[0m\u001b[0m\n\u001b[1;32m     17\u001b[0m \u001b[0mpmodes\u001b[0m\u001b[0;34m[\u001b[0m\u001b[0;34m:\u001b[0m\u001b[0;34m,\u001b[0m \u001b[0;36m1\u001b[0m\u001b[0;34m:\u001b[0m\u001b[0mnz\u001b[0m \u001b[0;34m-\u001b[0m \u001b[0;36m1\u001b[0m\u001b[0;34m]\u001b[0m \u001b[0;34m=\u001b[0m \u001b[0;34m(\u001b[0m\u001b[0mpr\u001b[0m\u001b[0;34m[\u001b[0m\u001b[0;34m:\u001b[0m\u001b[0;34m,\u001b[0m \u001b[0;36m1\u001b[0m\u001b[0;34m:\u001b[0m\u001b[0mnz\u001b[0m \u001b[0;34m-\u001b[0m \u001b[0;36m1\u001b[0m\u001b[0;34m]\u001b[0m \u001b[0;34m+\u001b[0m \u001b[0mpr\u001b[0m\u001b[0;34m[\u001b[0m\u001b[0;34m:\u001b[0m\u001b[0;34m,\u001b[0m \u001b[0;34m:\u001b[0m\u001b[0mnz\u001b[0m \u001b[0;34m-\u001b[0m \u001b[0;36m2\u001b[0m\u001b[0;34m]\u001b[0m\u001b[0;34m)\u001b[0m \u001b[0;34m/\u001b[0m \u001b[0;36m2\u001b[0m\u001b[0;34m\u001b[0m\u001b[0m\n",
      "\u001b[0;31mValueError\u001b[0m: operands could not be broadcast together with shapes (37,38) (37,) "
     ]
    }
   ],
   "source": [
    "d2dz2, nz, dz = build_d2dz2_matrix(zlevels[1:])\n",
    "# N-squared diagonal matrix\n",
    "Nsq_mat = np.identity(nz) * N2[:,0,0]\n",
    "# Solve generalized eigenvalue problem for eigenvalues and vertical\n",
    "# velocity modes\n",
    "eigenvalues, wmodes = scipy.linalg.eig(d2dz2, Nsq_mat)\n",
    "# eigenvalues, wmodes = clean_up_modes(eigenvalues, wmodes, 1000)\n",
    "# Vertical density modes\n",
    "rmodes = wmodes * N2[:,0,0]\n",
    "# Modal speeds\n",
    "ce = np.real(1 / np.sqrt(eigenvalues))\n",
    "# Horizontal velocity modes\n",
    "pmodes = np.zeros_like(wmodes)\n",
    "# 1st derivative of vertical modes\n",
    "pr = np.divide(np.diff(wmodes[:-2,:]), dz)\n",
    "# Linear interpolation on to the vertical coordinate grid\n",
    "pmodes[:, 1:nz - 1] = (pr[:, 1:nz - 1] + pr[:, :nz - 2]) / 2\n",
    "pmodes[:, 0] = pr[:, 0]\n",
    "pmodes[:, nz - 1] = pr[:, nz - 2]"
   ]
  },
  {
   "cell_type": "code",
   "execution_count": 155,
   "metadata": {
    "collapsed": false
   },
   "outputs": [
    {
     "data": {
      "text/plain": [
       "(40, 40)"
      ]
     },
     "execution_count": 155,
     "metadata": {},
     "output_type": "execute_result"
    }
   ],
   "source": [
    "d2dz2.shape"
   ]
  },
  {
   "cell_type": "code",
   "execution_count": null,
   "metadata": {
    "collapsed": true
   },
   "outputs": [],
   "source": []
  },
  {
   "cell_type": "code",
   "execution_count": 226,
   "metadata": {
    "collapsed": true
   },
   "outputs": [],
   "source": [
    "\n",
    "\n",
    "def build_d2dz2_matrix(depth):\n",
    "    \"\"\"Build the matrix that discretizes the 2nd derivative\n",
    "    over the vertical coordinate, and applies the boundary conditions.\n",
    "    \"\"\"\n",
    "    zed = -np.array(depth)\n",
    "    # Number and size (in [m]) of vertical coordinate grid steps\n",
    "    # Number and size (in [m]) of vertical coordinate grid steps\n",
    "    nz = zed.size\n",
    "    dz = np.empty(nz -1)\n",
    "    for i in np.arange(1,zed.shape[0]):\n",
    "        dz[i-1] = zed[i] - zed[i-1]\n",
    "#     dz = zed[:nz - 1] - zed[1:]\n",
    "    # Grid step midpoints\n",
    "    z_mid = zed[:nz - 1] - 0.5 * dz[:nz - 1]\n",
    "    # Size of steps between grid step midpoints\n",
    "    dz_mid = np.zeros_like(zed)\n",
    "    dz_mid[1:dz_mid.size - 1] = z_mid[:nz - 2] - z_mid[1:nz - 1]\n",
    "    dz_mid[0] = dz_mid[1]\n",
    "    dz_mid[dz_mid.size - 1] = dz_mid[dz_mid.size - 2]\n",
    "    # 2nd derivative matrix matrix\n",
    "    d2dz2 = np.zeros((nz, nz))\n",
    "    # Elements on the diagonal\n",
    "    diag_index = np.arange(1, nz - 1)\n",
    "    d2dz2[diag_index, diag_index] = (\n",
    "        1 / (dz[:nz - 2] * dz_mid[1:nz - 1]) + 1 / (dz[1:nz - 1] * dz_mid[1:nz - 1]))\n",
    "    # Elements on the super-diagonal\n",
    "    diag_index_p1 = np.arange(2, nz)\n",
    "    d2dz2[diag_index, diag_index_p1] = -1 / (dz[:nz - 2] * dz_mid[1:nz - 1])\n",
    "    # Elements on the sub-diagonal\n",
    "    diag_index_m1 = np.arange(nz - 2)\n",
    "    d2dz2[diag_index, diag_index_m1] = -1 / (dz[1:nz - 1] * dz_mid[1:nz - 1])\n",
    "    # Boundary conditions\n",
    "    d2dz2[0, 0] = d2dz2[nz - 1, 0] = -1\n",
    "    return d2dz2, nz, dz\n",
    "\n"
   ]
  },
  {
   "cell_type": "code",
   "execution_count": 227,
   "metadata": {
    "collapsed": false
   },
   "outputs": [],
   "source": [
    "d2dz2, nz, dz = build_d2dz2_matrix(zlevels)"
   ]
  },
  {
   "cell_type": "code",
   "execution_count": 223,
   "metadata": {
    "collapsed": false
   },
   "outputs": [],
   "source": [
    "zed = -np.array(zlevels)\n",
    "# Number and size (in [m]) of vertical coordinate grid steps\n",
    "nz = zed.size\n",
    "dz = np.empty(nz -1)\n",
    "for i in np.arange(1,zed.shape[0]):\n",
    "    dz[i-1] = zed[i] - zed[i-1]"
   ]
  },
  {
   "cell_type": "code",
   "execution_count": 224,
   "metadata": {
    "collapsed": false
   },
   "outputs": [
    {
     "data": {
      "text/plain": [
       "(40,)"
      ]
     },
     "execution_count": 224,
     "metadata": {},
     "output_type": "execute_result"
    }
   ],
   "source": [
    "zed.shape"
   ]
  },
  {
   "cell_type": "code",
   "execution_count": 225,
   "metadata": {
    "collapsed": false
   },
   "outputs": [
    {
     "data": {
      "text/plain": [
       "array([  -9.69734764,   -9.78517342,   -9.89237404,  -10.02320099,\n",
       "        -10.18283463,  -10.37756729,  -10.61507416,  -10.90462494,\n",
       "        -11.25750732,  -11.68734741,  -12.21063232,  -12.84719849,\n",
       "        -13.62089539,  -14.56025696,  -15.69929504,  -17.07824707,\n",
       "        -18.74452209,  -20.75326538,  -23.16827393,  -26.06195068,\n",
       "        -29.51541138,  -33.61734009,  -38.46212769,  -44.1461792 ,\n",
       "        -50.76293945,  -58.39575195,  -67.10894775,  -76.93725586,\n",
       "        -87.87506104,  -99.86700439, -112.80078125, -126.50628662,\n",
       "       -140.76037598, -155.30004883, -169.83947754, -184.09375   ,\n",
       "       -197.79931641, -210.73291016, -222.72509766])"
      ]
     },
     "execution_count": 225,
     "metadata": {},
     "output_type": "execute_result"
    }
   ],
   "source": [
    "dz"
   ]
  },
  {
   "cell_type": "code",
   "execution_count": null,
   "metadata": {
    "collapsed": true
   },
   "outputs": [],
   "source": []
  }
 ],
 "metadata": {
  "anaconda-cloud": {},
  "kernelspec": {
   "display_name": "Python [conda root]",
   "language": "python",
   "name": "conda-root-py"
  },
  "language_info": {
   "codemirror_mode": {
    "name": "ipython",
    "version": 3
   },
   "file_extension": ".py",
   "mimetype": "text/x-python",
   "name": "python",
   "nbconvert_exporter": "python",
   "pygments_lexer": "ipython3",
   "version": "3.5.2"
  }
 },
 "nbformat": 4,
 "nbformat_minor": 1
}
