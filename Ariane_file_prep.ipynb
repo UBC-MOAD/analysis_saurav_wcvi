{
 "cells": [
  {
   "cell_type": "code",
   "execution_count": 7,
   "metadata": {
    "collapsed": false
   },
   "outputs": [
    {
     "name": "stderr",
     "output_type": "stream",
     "text": [
      "/home/ssahu/anaconda3/lib/python3.5/site-packages/xarray/conventions.py:9: FutureWarning: The pandas.tslib module is deprecated and will be removed in a future version.\n",
      "  from pandas.tslib import OutOfBoundsDatetime\n",
      "DEBUG:shapely.geos:Trying `CDLL(libgeos_c.so.1)`\n",
      "DEBUG:shapely.geos:Trying `CDLL(libgeos_c.so)`\n",
      "DEBUG:shapely.geos:Trying `CDLL(/home/ssahu/anaconda3/lib/libgeos_c.so)`\n",
      "DEBUG:shapely.geos:Library path: '/home/ssahu/anaconda3/lib/libgeos_c.so'\n",
      "DEBUG:shapely.geos:DLL: <CDLL '/home/ssahu/anaconda3/lib/libgeos_c.so', handle 432dd10 at 0x7fa68058a5c0>\n",
      "DEBUG:shapely.geos:Trying `CDLL(libc.so.6)`\n",
      "DEBUG:shapely.geos:Library path: 'libc.so.6'\n",
      "DEBUG:shapely.geos:DLL: <CDLL 'libc.so.6', handle 7fa6c6de3000 at 0x7fa68058a6d8>\n"
     ]
    }
   ],
   "source": [
    "import matplotlib\n",
    "matplotlib.use('TkAgg')\n",
    "%matplotlib inline\n",
    "import matplotlib.pyplot as plt\n",
    "import numpy as np\n",
    "import netCDF4 as nc\n",
    "from scipy.interpolate import interp1d\n",
    "import scipy as sc\n",
    "import matplotlib.cm as cm\n",
    "from salishsea_tools import (nc_tools, gsw_calls, geo_tools, viz_tools)\n",
    "import seabird\n",
    "import cmocean as cmo\n",
    "import gsw\n",
    "from seabird.cnv import fCNV\n",
    "import pandas as pd\n",
    "import seaborn as sns\n",
    "import matplotlib.gridspec as gridspec\n",
    "import scipy.io\n",
    "from matplotlib.offsetbox import AnchoredText\n",
    "from mpl_toolkits.axes_grid1 import make_axes_locatable, axes_size\n",
    "from eofs.standard import Eof\n",
    "\n",
    "from dateutil        import parser\n",
    "from datetime import datetime\n",
    "\n",
    "import cartopy.crs as ccrs\n",
    "import cartopy.feature as cfeature"
   ]
  },
  {
   "cell_type": "code",
   "execution_count": 12,
   "metadata": {
    "collapsed": false
   },
   "outputs": [],
   "source": [
    "mesh_mask_large  = nc.Dataset('/data/mdunphy/NEP036-N30-OUT/INV/mesh_mask.nc')\n",
    "\n",
    "glamt   = mesh_mask_large.variables['glamt'][:,179:350,479:650]\n",
    "gphit   = mesh_mask_large.variables['gphit'][:,179:350,479:650]\n",
    "glamu   = mesh_mask_large.variables['glamu'][:,179:350,479:650]\n",
    "gphiv   = mesh_mask_large.variables['gphiv'][:,179:350,479:650]\n",
    "gdepw_0 = mesh_mask_large.variables['gdepw_0'][:,:32,179:350,479:650]\n",
    "e2u     = mesh_mask_large.variables['e2u'][:,179:350,479:650]\n",
    "e1v     = mesh_mask_large.variables['e1v'][:,179:350,479:650]\n",
    "e1t     = mesh_mask_large.variables['e1t'][:,179:350,479:650]\n",
    "e2t     = mesh_mask_large.variables['e2t'][:,179:350,479:650]\n",
    "e3t_0   = mesh_mask_large.variables['e3t_0'][:,:32,179:350,479:650]\n",
    "tmask   = mesh_mask_large.variables['tmask'][:,:32,179:350,479:650]"
   ]
  },
  {
   "cell_type": "code",
   "execution_count": 13,
   "metadata": {
    "collapsed": false
   },
   "outputs": [
    {
     "data": {
      "text/plain": [
       "(1, 171, 171)"
      ]
     },
     "execution_count": 13,
     "metadata": {},
     "output_type": "execute_result"
    }
   ],
   "source": [
    "glamt.shape"
   ]
  },
  {
   "cell_type": "code",
   "execution_count": 14,
   "metadata": {
    "collapsed": false
   },
   "outputs": [],
   "source": [
    "file_mask = nc.Dataset('/data/ssahu/NEP36_2013_summer_hindcast/Ariane_mesh_mask.nc', 'w', zlib=True)\n",
    "\n",
    "file_mask.createDimension('x', tmask.shape[3]);\n",
    "file_mask.createDimension('y', tmask.shape[2]);\n",
    "file_mask.createDimension('z', tmask.shape[1]);\n",
    "file_mask.createDimension('t', None);\n",
    "\n",
    "x = file_mask.createVariable('x', 'int32', ('x',), zlib=True);\n",
    "x.units = 'indices';\n",
    "x.longname = 'x indices';\n",
    "\n",
    "y = file_mask.createVariable('y', 'int32', ('y',), zlib=True);\n",
    "y.units = 'indices';\n",
    "y.longname = 'y indices';\n",
    "\n",
    "time_counter = file_mask.createVariable('t', 'int32', ('t',), zlib=True);\n",
    "time_counter.units = 's';\n",
    "time_counter.longname = 'time';\n",
    "\n",
    "glamt_file   = file_mask.createVariable('glamt', 'float32', ('t', 'y', 'x'), zlib=True);\n",
    "gphit_file   = file_mask.createVariable('gphit', 'float32', ('t', 'y', 'x'), zlib=True);\n",
    "glamu_file   = file_mask.createVariable('glamu', 'float32', ('t', 'y', 'x'), zlib=True);\n",
    "gphiv_file   = file_mask.createVariable('gphiv', 'float32', ('t', 'y', 'x'), zlib=True);\n",
    "e2u_file     = file_mask.createVariable('e2u', 'float32', ('t', 'y', 'x'), zlib=True);\n",
    "e1v_file     = file_mask.createVariable('e1v', 'float32', ('t', 'y', 'x'), zlib=True);\n",
    "e1t_file     = file_mask.createVariable('e1t', 'float32', ('t', 'y', 'x'), zlib=True);\n",
    "e2t_file     = file_mask.createVariable('e2t', 'float32', ('t', 'y', 'x'), zlib=True);\n",
    "gdepw_0_file = file_mask.createVariable('gdepw_0', 'float32', ('t','z', 'y', 'x'), zlib=True);\n",
    "e3t_0_file   = file_mask.createVariable('e3t_0', 'float32', ('t','z', 'y', 'x'), zlib=True);\n",
    "tmask_file   = file_mask.createVariable('tmask', 'float32', ('t','z', 'y', 'x'), zlib=True);\n",
    "\n",
    "glamt_file[:]   = glamt[:]\n",
    "gphit_file[:]   = gphit[:]\n",
    "glamu_file[:]   = glamu[:]\n",
    "gphiv_file[:]   = gphiv[:]\n",
    "e2u_file[:]     = e2u[:]\n",
    "e1v_file[:]     = e1v[:]\n",
    "e1t_file[:]     = e1t[:]\n",
    "e2t_file[:]     = e2t[:]\n",
    "gdepw_0_file[:] = gdepw_0[:]\n",
    "e3t_0_file[:]   = e3t_0[:]\n",
    "tmask_file[:]   = tmask[:]\n",
    "time_counter[0] = 1\n",
    "\n",
    "\n",
    "file_mask.close()"
   ]
  },
  {
   "cell_type": "code",
   "execution_count": 55,
   "metadata": {
    "collapsed": false
   },
   "outputs": [
    {
     "data": {
      "text/plain": [
       "(1, 32, 171, 171)"
      ]
     },
     "execution_count": 55,
     "metadata": {},
     "output_type": "execute_result"
    }
   ],
   "source": [
    "tmask.shape"
   ]
  },
  {
   "cell_type": "code",
   "execution_count": 5,
   "metadata": {
    "collapsed": true
   },
   "outputs": [],
   "source": [
    "grid_T_small = nc.Dataset('/data/ssahu/NEP36_2013_summer_hindcast/cut_NEP36-S29_1d_20130429_20131025_grid_T_20130429-20130508.nc')\n",
    "\n",
    "lon_small = grid_T_small.variables['nav_lon'][:]\n",
    "lat_small = grid_T_small.variables['nav_lat'][:]\n",
    "\n"
   ]
  },
  {
   "cell_type": "code",
   "execution_count": 4,
   "metadata": {
    "collapsed": false
   },
   "outputs": [
    {
     "name": "stdout",
     "output_type": "stream",
     "text": [
      "90 93\n"
     ]
    }
   ],
   "source": [
    "lon_A1 = -126.20433\n",
    "lat_A1 = 48.52958\n",
    "\n",
    "j, i = geo_tools.find_closest_model_point(lon_A1,lat_A1,\\\n",
    "                                          lon_small,lat_small,grid='NEMO',tols=\\\n",
    "                                          {'NEMO': {'tol_lon': 0.1, 'tol_lat': 0.1},\\\n",
    "                                           'GEM2.5': {'tol_lon': 0.1, 'tol_lat': 0.1}}) \n",
    "\n",
    "print(j,i)"
   ]
  },
  {
   "cell_type": "code",
   "execution_count": 56,
   "metadata": {
    "collapsed": false
   },
   "outputs": [
    {
     "data": {
      "text/plain": [
       "171"
      ]
     },
     "execution_count": 56,
     "metadata": {},
     "output_type": "execute_result"
    }
   ],
   "source": [
    "tmask.shape[3]"
   ]
  },
  {
   "cell_type": "markdown",
   "metadata": {},
   "source": [
    "glamt_large.shape"
   ]
  },
  {
   "cell_type": "code",
   "execution_count": 2,
   "metadata": {
    "collapsed": false
   },
   "outputs": [],
   "source": []
  },
  {
   "cell_type": "code",
   "execution_count": 15,
   "metadata": {
    "collapsed": false
   },
   "outputs": [
    {
     "data": {
      "text/plain": [
       "(-128.85672, 47.343193)"
      ]
     },
     "execution_count": 15,
     "metadata": {},
     "output_type": "execute_result"
    }
   ],
   "source": [
    "lon_small[0,0], lat_small[0,0]"
   ]
  },
  {
   "cell_type": "code",
   "execution_count": 16,
   "metadata": {
    "collapsed": false
   },
   "outputs": [
    {
     "data": {
      "text/plain": [
       "(-128.54237, 49.788475)"
      ]
     },
     "execution_count": 16,
     "metadata": {},
     "output_type": "execute_result"
    }
   ],
   "source": [
    "lon_small[-1,0], lat_small[-1,0]"
   ]
  },
  {
   "cell_type": "code",
   "execution_count": 17,
   "metadata": {
    "collapsed": false
   },
   "outputs": [
    {
     "data": {
      "text/plain": [
       "(-124.24197, 47.136707)"
      ]
     },
     "execution_count": 17,
     "metadata": {},
     "output_type": "execute_result"
    }
   ],
   "source": [
    "lon_small[0,-1], lat_small[0,-1]"
   ]
  },
  {
   "cell_type": "code",
   "execution_count": 18,
   "metadata": {
    "collapsed": false
   },
   "outputs": [
    {
     "data": {
      "text/plain": [
       "(-123.98723, 49.517643)"
      ]
     },
     "execution_count": 18,
     "metadata": {},
     "output_type": "execute_result"
    }
   ],
   "source": [
    "lon_small[-1,-1], lat_small[-1,-1]"
   ]
  },
  {
   "cell_type": "code",
   "execution_count": 11,
   "metadata": {
    "collapsed": false
   },
   "outputs": [],
   "source": [
    "mat_file_str='/data/ssahu/Falkor_2013/mvp/surveyA.mat'\n",
    "\n",
    "\n",
    "\n",
    "mat = scipy.io.loadmat(mat_file_str)\n",
    "\n",
    "depths_survey = mat['depths'][:,0]\n",
    "lat_survey = mat['latitude'][:,0]\n",
    "lon_survey = mat['longitude'][:,0] - 100\n",
    "# den_survey = mat['density'][:]\n",
    "pden_survey = mat['pden'][:]\n",
    "temp_survey = mat['temp'][:]\n",
    "sal_survey = mat['salinity'][:]\n",
    "mtime = mat['mtime'][:,0]\n",
    "\n",
    "pressure_survey = np.empty_like(temp_survey)\n",
    "SA_survey = np.empty_like(temp_survey)\n",
    "CT_survey = np.empty_like(temp_survey)\n",
    "spic_survey = np.empty_like(temp_survey)\n",
    "rho_survey = np.empty_like(temp_survey)\n",
    "\n",
    "\n",
    "y = np.empty_like(lat_survey)\n",
    "x = np.empty_like(y)\n",
    "\n",
    "\n",
    "for i in np.arange(lat_survey.shape[0]):\n",
    "    y[i], x[i] = geo_tools.find_closest_model_point(\n",
    "               lon_survey[i],lat_survey[i],lon_small,lat_small,tols={\n",
    "        'NEMO': {'tol_lon': 0.1, 'tol_lat': 0.1},'GEM2.5': {'tol_lon': 0.1, 'tol_lat': 0.1}})\n",
    "\n"
   ]
  },
  {
   "cell_type": "code",
   "execution_count": 12,
   "metadata": {
    "collapsed": false
   },
   "outputs": [
    {
     "name": "stdout",
     "output_type": "stream",
     "text": [
      "97.0 103.0\n",
      "97.0 103.0\n",
      "97.0 103.0\n",
      "97.0 103.0\n",
      "97.0 103.0\n",
      "95.0 103.0\n",
      "95.0 103.0\n",
      "95.0 103.0\n",
      "94.0 103.0\n",
      "94.0 103.0\n",
      "94.0 103.0\n",
      "93.0 103.0\n",
      "93.0 102.0\n",
      "93.0 102.0\n",
      "92.0 102.0\n",
      "92.0 102.0\n",
      "92.0 102.0\n",
      "91.0 102.0\n",
      "91.0 102.0\n",
      "90.0 102.0\n",
      "90.0 102.0\n",
      "89.0 102.0\n",
      "89.0 102.0\n",
      "89.0 102.0\n",
      "88.0 101.0\n",
      "87.0 101.0\n",
      "87.0 101.0\n",
      "85.0 101.0\n",
      "85.0 101.0\n",
      "84.0 101.0\n",
      "83.0 100.0\n",
      "82.0 100.0\n",
      "81.0 100.0\n",
      "80.0 100.0\n",
      "80.0 101.0\n",
      "80.0 101.0\n",
      "81.0 102.0\n",
      "81.0 102.0\n",
      "82.0 103.0\n",
      "82.0 103.0\n",
      "83.0 104.0\n",
      "83.0 105.0\n",
      "84.0 105.0\n",
      "84.0 105.0\n",
      "85.0 106.0\n",
      "85.0 106.0\n",
      "85.0 107.0\n",
      "86.0 107.0\n",
      "86.0 107.0\n",
      "86.0 107.0\n",
      "86.0 108.0\n",
      "87.0 108.0\n",
      "87.0 108.0\n",
      "87.0 109.0\n",
      "87.0 109.0\n",
      "88.0 109.0\n",
      "88.0 109.0\n",
      "88.0 110.0\n",
      "88.0 110.0\n",
      "89.0 110.0\n",
      "89.0 110.0\n",
      "89.0 111.0\n",
      "89.0 111.0\n",
      "90.0 111.0\n",
      "90.0 111.0\n",
      "90.0 112.0\n",
      "90.0 112.0\n",
      "89.0 112.0\n",
      "89.0 112.0\n",
      "89.0 112.0\n",
      "88.0 112.0\n",
      "88.0 112.0\n",
      "88.0 111.0\n",
      "87.0 111.0\n",
      "87.0 111.0\n",
      "87.0 111.0\n",
      "86.0 111.0\n",
      "86.0 111.0\n",
      "85.0 111.0\n",
      "85.0 110.0\n",
      "84.0 110.0\n",
      "84.0 110.0\n",
      "84.0 110.0\n",
      "83.0 110.0\n",
      "83.0 109.0\n",
      "82.0 109.0\n",
      "82.0 109.0\n",
      "81.0 109.0\n",
      "81.0 109.0\n",
      "80.0 108.0\n",
      "80.0 108.0\n",
      "79.0 108.0\n",
      "79.0 108.0\n",
      "78.0 108.0\n",
      "78.0 107.0\n",
      "77.0 107.0\n",
      "76.0 107.0\n",
      "76.0 107.0\n",
      "75.0 106.0\n",
      "74.0 106.0\n",
      "73.0 106.0\n",
      "74.0 107.0\n",
      "74.0 107.0\n",
      "75.0 108.0\n",
      "76.0 108.0\n",
      "76.0 109.0\n",
      "77.0 109.0\n",
      "77.0 110.0\n",
      "78.0 110.0\n",
      "78.0 111.0\n",
      "79.0 111.0\n",
      "79.0 111.0\n",
      "80.0 112.0\n",
      "80.0 112.0\n",
      "81.0 112.0\n",
      "81.0 113.0\n",
      "82.0 113.0\n",
      "82.0 114.0\n",
      "83.0 114.0\n",
      "83.0 114.0\n",
      "83.0 114.0\n",
      "84.0 115.0\n",
      "84.0 115.0\n",
      "84.0 115.0\n",
      "85.0 115.0\n",
      "85.0 116.0\n",
      "85.0 116.0\n",
      "86.0 116.0\n",
      "86.0 117.0\n",
      "86.0 117.0\n",
      "87.0 117.0\n",
      "87.0 117.0\n",
      "87.0 118.0\n",
      "88.0 118.0\n",
      "88.0 118.0\n",
      "88.0 118.0\n",
      "89.0 119.0\n",
      "89.0 119.0\n",
      "89.0 119.0\n",
      "89.0 119.0\n",
      "90.0 119.0\n",
      "90.0 120.0\n",
      "90.0 121.0\n",
      "89.0 121.0\n",
      "89.0 121.0\n",
      "89.0 121.0\n",
      "88.0 121.0\n",
      "87.0 121.0\n",
      "87.0 122.0\n",
      "86.0 122.0\n",
      "86.0 122.0\n",
      "85.0 122.0\n",
      "84.0 122.0\n",
      "84.0 122.0\n",
      "83.0 123.0\n",
      "82.0 123.0\n",
      "82.0 123.0\n",
      "81.0 123.0\n",
      "80.0 124.0\n",
      "80.0 124.0\n",
      "79.0 124.0\n",
      "79.0 124.0\n",
      "78.0 124.0\n",
      "78.0 124.0\n",
      "78.0 124.0\n",
      "77.0 125.0\n",
      "77.0 125.0\n",
      "76.0 125.0\n",
      "76.0 125.0\n",
      "76.0 125.0\n",
      "75.0 125.0\n",
      "75.0 125.0\n",
      "75.0 125.0\n",
      "74.0 124.0\n",
      "74.0 124.0\n",
      "74.0 124.0\n",
      "74.0 123.0\n",
      "73.0 123.0\n",
      "73.0 123.0\n",
      "73.0 123.0\n",
      "73.0 122.0\n",
      "72.0 122.0\n",
      "72.0 122.0\n",
      "72.0 121.0\n",
      "72.0 121.0\n",
      "71.0 120.0\n",
      "71.0 120.0\n",
      "70.0 120.0\n",
      "70.0 119.0\n",
      "70.0 119.0\n",
      "69.0 118.0\n",
      "69.0 118.0\n",
      "68.0 117.0\n",
      "68.0 117.0\n",
      "68.0 116.0\n",
      "67.0 116.0\n",
      "67.0 115.0\n",
      "66.0 115.0\n",
      "66.0 114.0\n",
      "65.0 113.0\n",
      "66.0 113.0\n",
      "67.0 112.0\n",
      "60.0 121.0\n"
     ]
    }
   ],
   "source": [
    "for i in np.arange(y.shape[0]):\n",
    "    print (y[i], x[i])"
   ]
  },
  {
   "cell_type": "code",
   "execution_count": null,
   "metadata": {
    "collapsed": true
   },
   "outputs": [],
   "source": []
  }
 ],
 "metadata": {
  "anaconda-cloud": {},
  "kernelspec": {
   "display_name": "Python [conda root]",
   "language": "python",
   "name": "conda-root-py"
  },
  "language_info": {
   "codemirror_mode": {
    "name": "ipython",
    "version": 3
   },
   "file_extension": ".py",
   "mimetype": "text/x-python",
   "name": "python",
   "nbconvert_exporter": "python",
   "pygments_lexer": "ipython3",
   "version": "3.5.2"
  }
 },
 "nbformat": 4,
 "nbformat_minor": 1
}
