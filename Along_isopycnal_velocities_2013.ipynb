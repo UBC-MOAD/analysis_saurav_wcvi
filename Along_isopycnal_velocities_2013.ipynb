{
 "cells": [
  {
   "cell_type": "code",
   "execution_count": 72,
   "metadata": {
    "collapsed": false
   },
   "outputs": [],
   "source": [
    "from __future__ import division\n",
    "import matplotlib.pyplot as plt\n",
    "import numpy as np\n",
    "import netCDF4 as nc\n",
    "import os\n",
    "import glob\n",
    "import fnmatch\n",
    "from collections import namedtuple, OrderedDict\n",
    "import scipy.io as sio\n",
    "from scipy import interpolate, signal\n",
    "from pyproj import Proj,transform\n",
    "import sys\n",
    "sys.path.append('/ocean/ssahu/CANYONS/wcvi/grid/')\n",
    "from grid_alignment import calculate_initial_compass_bearing as cibc\n",
    "from bathy_common import *\n",
    "from matplotlib import path\n",
    "import xarray as xr\n",
    "import pandas as pd\n",
    "import scipy.io as sio\n",
    "import matplotlib.cm as cm\n",
    "import cmocean as cmo\n",
    "import matplotlib.gridspec as gridspec\n",
    "from dateutil.parser import parse\n",
    "from salishsea_tools import geo_tools, viz_tools, tidetools, nc_tools\n",
    "import gsw\n",
    "from scipy.interpolate import interp1d\n",
    "\n",
    "\n",
    "import os\n",
    "\n",
    "%matplotlib inline"
   ]
  },
  {
   "cell_type": "code",
   "execution_count": 8,
   "metadata": {
    "collapsed": true
   },
   "outputs": [],
   "source": [
    "path_to_save ='/data/ssahu/NEP36_Extracted_Months/' #'/home/ssahu/saurav/'\n",
    "\n",
    "\n",
    "bathy = nc.Dataset('/data/mdunphy/NEP036-N30-OUT/INV/Bathymetry_EastCoast_NEMO_R036_GEBCO_corr_v14.nc')\n",
    "\n",
    "Z = bathy.variables['Bathymetry'][:]\n",
    "\n",
    "zlevels = nc.Dataset('/data/mdunphy/NEP036-N30-OUT/CDF_COMB_COMPRESSED/NEP036-N30_IN_20140915_00001440_grid_T.nc').variables['deptht'][:32]\n",
    "\n",
    "\n",
    "mask = nc.Dataset('/data/mdunphy/NEP036-N30-OUT/INV/mesh_mask.nc')\n",
    "\n",
    "tmask = mask.variables['tmask'][0,:32,180:350, 480:650]\n",
    "umask = mask.variables['umask'][0,:32,180:350, 480:650]\n",
    "vmask = mask.variables['vmask'][0,:32,180:350, 480:650]\n",
    "mbathy = mask.variables['mbathy'][0,180:350, 480:650]\n",
    "\n",
    "\n",
    "y_wcvi_slice = np.array(np.arange(180,350))\n",
    "x_wcvi_slice = np.array(np.arange(480,650))\n",
    "\n",
    "\n",
    "\n",
    "mbathy[mbathy>32] = 32"
   ]
  },
  {
   "cell_type": "code",
   "execution_count": 16,
   "metadata": {
    "collapsed": true
   },
   "outputs": [],
   "source": [
    "NEP_2013 = nc.Dataset('/data/ssahu/NEP36_Extracted_Months/NEP36_2013_T_S_Spice_larger_offshore_rho_correct.nc')\n",
    "\n",
    "rho = NEP_2013.variables['density']"
   ]
  },
  {
   "cell_type": "code",
   "execution_count": 9,
   "metadata": {
    "collapsed": true
   },
   "outputs": [],
   "source": [
    "def U_timeseries_at_WCVI_locations(grid_U):\n",
    "    \n",
    "    u_vel = grid_U.variables['uo'][:,:,:,:]\n",
    "\n",
    "    \n",
    "    vector_u = namedtuple('vector_u', 'u_vel')\n",
    "\n",
    "    return vector_u(u_vel)\n",
    "\n",
    "\n",
    "def V_timeseries_at_WCVI_locations(grid_V):\n",
    "    \n",
    "    v_vel = grid_V.variables['vo'][:,:,:,:]\n",
    "\n",
    "    \n",
    "    vector_v = namedtuple('vector_v', 'v_vel')\n",
    "\n",
    "    return vector_v(v_vel)"
   ]
  },
  {
   "cell_type": "code",
   "execution_count": 11,
   "metadata": {
    "collapsed": false
   },
   "outputs": [],
   "source": [
    "\n",
    "\n",
    "u_vel = np.empty((180,zlevels.shape[0],1+y_wcvi_slice.shape[0],1+x_wcvi_slice.shape[0]))\n",
    "v_vel = np.empty((180,zlevels.shape[0],1+y_wcvi_slice.shape[0],1+x_wcvi_slice.shape[0]))\n",
    "\n",
    "\n",
    "\n",
    "i = 0\n",
    "\n",
    "for file in sorted(glob.glob('/data/ssahu/NEP36_2013_summer_hindcast/cut_NEP36-S29_1d*grid_U*.nc')):\n",
    "    vector_u = U_timeseries_at_WCVI_locations(nc.Dataset(file))\n",
    "    u_vel[i:i+10,...] = vector_u[0]\n",
    "    i = i+10\n",
    "\n",
    "j = 0\n",
    "for file in sorted(glob.glob('/data/ssahu/NEP36_2013_summer_hindcast/cut_NEP36-S29_1d*grid_V*.nc')):\n",
    "    vector_v = V_timeseries_at_WCVI_locations(nc.Dataset(file))\n",
    "    v_vel[j:j+10,...] = vector_v[0]\n",
    "    j = j+10\n",
    "    "
   ]
  },
  {
   "cell_type": "code",
   "execution_count": 18,
   "metadata": {
    "collapsed": true
   },
   "outputs": [],
   "source": [
    "# t = 0\n",
    "# level = 0\n",
    "\n",
    "u_tzyx = np.empty((u_vel.shape[0],zlevels.shape[0],y_wcvi_slice.shape[0],x_wcvi_slice.shape[0]))\n",
    "v_tzyx = np.empty_like(u_tzyx)\n",
    "\n",
    "for t in np.arange(u_tzyx.shape[0]):\n",
    "    for level in np.arange(zlevels.shape[0]):\n",
    "        u_tzyx[t, level,...], v_tzyx[t, level,...] = viz_tools.unstagger(u_vel[t,level,...], v_vel[t, level,...])\n",
    "        u_tzyx[t, level,...] = np.ma.masked_array(u_tzyx[t, level,...], mask= 1- umask[level,:,:,])\n",
    "        v_tzyx[t, level,...] = np.ma.masked_array(v_tzyx[t, level,...], mask= 1- vmask[level,:,:])"
   ]
  },
  {
   "cell_type": "code",
   "execution_count": 15,
   "metadata": {
    "collapsed": false
   },
   "outputs": [
    {
     "data": {
      "text/plain": [
       "(180, 32, 171, 171)"
      ]
     },
     "execution_count": 15,
     "metadata": {},
     "output_type": "execute_result"
    }
   ],
   "source": [
    "u_vel.shape"
   ]
  },
  {
   "cell_type": "code",
   "execution_count": 17,
   "metadata": {
    "collapsed": false
   },
   "outputs": [
    {
     "data": {
      "text/plain": [
       "(180, 32, 170, 170)"
      ]
     },
     "execution_count": 17,
     "metadata": {},
     "output_type": "execute_result"
    }
   ],
   "source": [
    "rho.shape"
   ]
  },
  {
   "cell_type": "code",
   "execution_count": 19,
   "metadata": {
    "collapsed": false
   },
   "outputs": [
    {
     "data": {
      "text/plain": [
       "(180, 32, 170, 170)"
      ]
     },
     "execution_count": 19,
     "metadata": {},
     "output_type": "execute_result"
    }
   ],
   "source": [
    "u_tzyx.shape"
   ]
  },
  {
   "cell_type": "code",
   "execution_count": 68,
   "metadata": {
    "collapsed": true
   },
   "outputs": [],
   "source": [
    "znew = np.arange(0,250,0.1)\n",
    "\n",
    "den = np.arange(26,26.5,0.1)\n",
    "tol = 0.01\n"
   ]
  },
  {
   "cell_type": "code",
   "execution_count": 70,
   "metadata": {
    "collapsed": false
   },
   "outputs": [
    {
     "data": {
      "text/plain": [
       "5"
      ]
     },
     "execution_count": 70,
     "metadata": {},
     "output_type": "execute_result"
    }
   ],
   "source": [
    "den.shape[0]"
   ]
  },
  {
   "cell_type": "code",
   "execution_count": 74,
   "metadata": {
    "collapsed": false
   },
   "outputs": [
    {
     "name": "stdout",
     "output_type": "stream",
     "text": [
      "Starting interpolation and data extraction\n"
     ]
    },
    {
     "name": "stderr",
     "output_type": "stream",
     "text": [
      "/home/ssahu/anaconda3/lib/python3.5/site-packages/ipykernel/__main__.py:55: RuntimeWarning: Mean of empty slice\n",
      "/home/ssahu/anaconda3/lib/python3.5/site-packages/ipykernel/__main__.py:56: RuntimeWarning: Mean of empty slice\n"
     ]
    },
    {
     "ename": "KeyboardInterrupt",
     "evalue": "",
     "output_type": "error",
     "traceback": [
      "\u001b[0;31m---------------------------------------------------------------------------\u001b[0m",
      "\u001b[0;31mKeyboardInterrupt\u001b[0m                         Traceback (most recent call last)",
      "\u001b[0;32m<ipython-input-74-31a5dd7e1662>\u001b[0m in \u001b[0;36m<module>\u001b[0;34m()\u001b[0m\n\u001b[1;32m     46\u001b[0m                 \u001b[0mrho_new\u001b[0m\u001b[0;34m[\u001b[0m\u001b[0;34m:\u001b[0m\u001b[0;34m,\u001b[0m\u001b[0mi\u001b[0m\u001b[0;34m]\u001b[0m  \u001b[0;34m=\u001b[0m \u001b[0mf\u001b[0m\u001b[0;34m(\u001b[0m\u001b[0mznew\u001b[0m\u001b[0;34m[\u001b[0m\u001b[0;34m:\u001b[0m\u001b[0;34m]\u001b[0m\u001b[0;34m)\u001b[0m\u001b[0;34m\u001b[0m\u001b[0m\n\u001b[1;32m     47\u001b[0m                 \u001b[0mu_new\u001b[0m\u001b[0;34m[\u001b[0m\u001b[0;34m:\u001b[0m\u001b[0;34m,\u001b[0m\u001b[0mi\u001b[0m\u001b[0;34m]\u001b[0m    \u001b[0;34m=\u001b[0m \u001b[0mg\u001b[0m\u001b[0;34m(\u001b[0m\u001b[0mznew\u001b[0m\u001b[0;34m[\u001b[0m\u001b[0;34m:\u001b[0m\u001b[0;34m]\u001b[0m\u001b[0;34m)\u001b[0m\u001b[0;34m\u001b[0m\u001b[0m\n\u001b[0;32m---> 48\u001b[0;31m                 \u001b[0mv_new\u001b[0m\u001b[0;34m[\u001b[0m\u001b[0;34m:\u001b[0m\u001b[0;34m,\u001b[0m\u001b[0mi\u001b[0m\u001b[0;34m]\u001b[0m    \u001b[0;34m=\u001b[0m \u001b[0mh\u001b[0m\u001b[0;34m(\u001b[0m\u001b[0mznew\u001b[0m\u001b[0;34m[\u001b[0m\u001b[0;34m:\u001b[0m\u001b[0;34m]\u001b[0m\u001b[0;34m)\u001b[0m\u001b[0;34m\u001b[0m\u001b[0m\n\u001b[0m\u001b[1;32m     49\u001b[0m \u001b[0;34m\u001b[0m\u001b[0m\n\u001b[1;32m     50\u001b[0m \u001b[0;34m\u001b[0m\u001b[0m\n",
      "\u001b[0;32m/home/ssahu/anaconda3/lib/python3.5/site-packages/scipy/interpolate/polyint.py\u001b[0m in \u001b[0;36m__call__\u001b[0;34m(self, x)\u001b[0m\n\u001b[1;32m     77\u001b[0m         \"\"\"\n\u001b[1;32m     78\u001b[0m         \u001b[0mx\u001b[0m\u001b[0;34m,\u001b[0m \u001b[0mx_shape\u001b[0m \u001b[0;34m=\u001b[0m \u001b[0mself\u001b[0m\u001b[0;34m.\u001b[0m\u001b[0m_prepare_x\u001b[0m\u001b[0;34m(\u001b[0m\u001b[0mx\u001b[0m\u001b[0;34m)\u001b[0m\u001b[0;34m\u001b[0m\u001b[0m\n\u001b[0;32m---> 79\u001b[0;31m         \u001b[0my\u001b[0m \u001b[0;34m=\u001b[0m \u001b[0mself\u001b[0m\u001b[0;34m.\u001b[0m\u001b[0m_evaluate\u001b[0m\u001b[0;34m(\u001b[0m\u001b[0mx\u001b[0m\u001b[0;34m)\u001b[0m\u001b[0;34m\u001b[0m\u001b[0m\n\u001b[0m\u001b[1;32m     80\u001b[0m         \u001b[0;32mreturn\u001b[0m \u001b[0mself\u001b[0m\u001b[0;34m.\u001b[0m\u001b[0m_finish_y\u001b[0m\u001b[0;34m(\u001b[0m\u001b[0my\u001b[0m\u001b[0;34m,\u001b[0m \u001b[0mx_shape\u001b[0m\u001b[0;34m)\u001b[0m\u001b[0;34m\u001b[0m\u001b[0m\n\u001b[1;32m     81\u001b[0m \u001b[0;34m\u001b[0m\u001b[0m\n",
      "\u001b[0;32m/home/ssahu/anaconda3/lib/python3.5/site-packages/scipy/interpolate/interpolate.py\u001b[0m in \u001b[0;36m_evaluate\u001b[0;34m(self, x_new)\u001b[0m\n\u001b[1;32m    606\u001b[0m         \u001b[0;31m#    The behavior is set by the bounds_error variable.\u001b[0m\u001b[0;34m\u001b[0m\u001b[0;34m\u001b[0m\u001b[0m\n\u001b[1;32m    607\u001b[0m         \u001b[0mx_new\u001b[0m \u001b[0;34m=\u001b[0m \u001b[0masarray\u001b[0m\u001b[0;34m(\u001b[0m\u001b[0mx_new\u001b[0m\u001b[0;34m)\u001b[0m\u001b[0;34m\u001b[0m\u001b[0m\n\u001b[0;32m--> 608\u001b[0;31m         \u001b[0my_new\u001b[0m \u001b[0;34m=\u001b[0m \u001b[0mself\u001b[0m\u001b[0;34m.\u001b[0m\u001b[0m_call\u001b[0m\u001b[0;34m(\u001b[0m\u001b[0mself\u001b[0m\u001b[0;34m,\u001b[0m \u001b[0mx_new\u001b[0m\u001b[0;34m)\u001b[0m\u001b[0;34m\u001b[0m\u001b[0m\n\u001b[0m\u001b[1;32m    609\u001b[0m         \u001b[0;32mif\u001b[0m \u001b[0;32mnot\u001b[0m \u001b[0mself\u001b[0m\u001b[0;34m.\u001b[0m\u001b[0m_extrapolate\u001b[0m\u001b[0;34m:\u001b[0m\u001b[0;34m\u001b[0m\u001b[0m\n\u001b[1;32m    610\u001b[0m             \u001b[0mbelow_bounds\u001b[0m\u001b[0;34m,\u001b[0m \u001b[0mabove_bounds\u001b[0m \u001b[0;34m=\u001b[0m \u001b[0mself\u001b[0m\u001b[0;34m.\u001b[0m\u001b[0m_check_bounds\u001b[0m\u001b[0;34m(\u001b[0m\u001b[0mx_new\u001b[0m\u001b[0;34m)\u001b[0m\u001b[0;34m\u001b[0m\u001b[0m\n",
      "\u001b[0;32m/home/ssahu/anaconda3/lib/python3.5/site-packages/scipy/interpolate/interpolate.py\u001b[0m in \u001b[0;36m_call_linear\u001b[0;34m(self, x_new)\u001b[0m\n\u001b[1;32m    556\u001b[0m         \u001b[0;31m#    self.x indices and at least 1.  Removes mis-interpolation\u001b[0m\u001b[0;34m\u001b[0m\u001b[0;34m\u001b[0m\u001b[0m\n\u001b[1;32m    557\u001b[0m         \u001b[0;31m#    of x_new[n] = x[0]\u001b[0m\u001b[0;34m\u001b[0m\u001b[0;34m\u001b[0m\u001b[0m\n\u001b[0;32m--> 558\u001b[0;31m         \u001b[0mx_new_indices\u001b[0m \u001b[0;34m=\u001b[0m \u001b[0mx_new_indices\u001b[0m\u001b[0;34m.\u001b[0m\u001b[0mclip\u001b[0m\u001b[0;34m(\u001b[0m\u001b[0;36m1\u001b[0m\u001b[0;34m,\u001b[0m \u001b[0mlen\u001b[0m\u001b[0;34m(\u001b[0m\u001b[0mself\u001b[0m\u001b[0;34m.\u001b[0m\u001b[0mx\u001b[0m\u001b[0;34m)\u001b[0m\u001b[0;34m-\u001b[0m\u001b[0;36m1\u001b[0m\u001b[0;34m)\u001b[0m\u001b[0;34m.\u001b[0m\u001b[0mastype\u001b[0m\u001b[0;34m(\u001b[0m\u001b[0mint\u001b[0m\u001b[0;34m)\u001b[0m\u001b[0;34m\u001b[0m\u001b[0m\n\u001b[0m\u001b[1;32m    559\u001b[0m \u001b[0;34m\u001b[0m\u001b[0m\n\u001b[1;32m    560\u001b[0m         \u001b[0;31m# 4. Calculate the slope of regions that each x_new value falls in.\u001b[0m\u001b[0;34m\u001b[0m\u001b[0;34m\u001b[0m\u001b[0m\n",
      "\u001b[0;31mKeyboardInterrupt\u001b[0m: "
     ]
    }
   ],
   "source": [
    "print(\"Starting interpolation and data extraction\")\n",
    "\n",
    "u_vel_time_iso = np.empty((u_tzyx.shape[0],den.shape[0],y_wcvi_slice.shape[0],x_wcvi_slice.shape[0]))\n",
    "v_vel_time_iso = np.empty((v_tzyx.shape[0],den.shape[0],y_wcvi_slice.shape[0],x_wcvi_slice.shape[0]))\n",
    "\n",
    "\n",
    "for t in np.arange(u_vel_time_iso.shape[0]):\n",
    "\n",
    "    rho_0  = rho[t, :, :, :] - 1000\n",
    "    u_0    = u_tzyx[t, :, :, :]\n",
    "    v_0    = v_tzyx[t,:,:,:]\n",
    "\n",
    "\n",
    "    u_spec_iso = np.empty((den.shape[0],y_wcvi_slice.shape[0],x_wcvi_slice.shape[0]))\n",
    "    v_spec_iso = np.empty((den.shape[0],y_wcvi_slice.shape[0],x_wcvi_slice.shape[0]))\n",
    "\n",
    "\n",
    "    for iso in np.arange(den.shape[0]):\n",
    "\n",
    "        u_den = np.empty((y_wcvi_slice.shape[0],x_wcvi_slice.shape[0]))\n",
    "        v_den = np.empty((y_wcvi_slice.shape[0],x_wcvi_slice.shape[0]))\n",
    "\n",
    "\n",
    "        for j in np.arange(y_wcvi_slice.shape[0]):\n",
    "\n",
    "\n",
    "            u_iso = np.empty(x_wcvi_slice.shape[0])\n",
    "            v_iso = np.empty(x_wcvi_slice.shape[0])\n",
    "\n",
    "\n",
    "\n",
    "            rho_new  = np.empty((znew.shape[0],x_wcvi_slice.shape[0]))\n",
    "            u_new    = np.empty((znew.shape[0],x_wcvi_slice.shape[0]))\n",
    "            v_new    = np.empty((znew.shape[0],x_wcvi_slice.shape[0]))\n",
    "\n",
    "\n",
    "            for i in np.arange(rho_new.shape[1]):\n",
    "\n",
    "\n",
    "                f = interp1d(zlevels[:],rho_0[:,j,i],fill_value='extrapolate')\n",
    "                g = interp1d(zlevels[:],u_0[:,j,i],fill_value='extrapolate')\n",
    "                h = interp1d(zlevels[:],v_0[:,j,i],fill_value='extrapolate')\n",
    "\n",
    "\n",
    "\n",
    "                rho_new[:,i]  = f(znew[:])\n",
    "                u_new[:,i]    = g(znew[:])\n",
    "                v_new[:,i]    = h(znew[:])\n",
    "\n",
    "\n",
    "                V = rho_new[:,i]\n",
    "\n",
    "                ind = (V>den[iso]-tol)&(V<den[iso]+tol)\n",
    "\n",
    "                u_iso[i] = np.nanmean(u_new[ind,i])\n",
    "                v_iso[i] = np.nanmean(v_new[ind,i])\n",
    "\n",
    "\n",
    "                u_den[j,i] = u_iso[i]\n",
    "                v_den[j,i] = v_iso[i]\n",
    "\n",
    "                \n",
    "                u_spec_iso[iso,j,i] = u_den[j,i]\n",
    "                v_spec_iso[iso,j,i] = v_den[j,i]\n",
    "\n",
    "\n",
    "                u_vel_time_iso[t,iso,j,i] = u_spec_iso[iso,j,i]\n",
    "                v_vel_time_iso[t,iso,j,i] = v_spec_iso[iso,j,i]\n",
    "\n",
    "\n"
   ]
  },
  {
   "cell_type": "code",
   "execution_count": null,
   "metadata": {
    "collapsed": true
   },
   "outputs": [],
   "source": [
    "print(\"Writing the isopycnal data\")\n",
    "\n",
    "\n",
    "bdy_file = nc.Dataset(path_to_save + 'short_NEP36_2013_along_isopycnal_larger_offshore_velocities.nc', 'w', zlib=True);\n",
    "\n",
    "bdy_file.createDimension('x', u_time_iso.shape[3]);\n",
    "bdy_file.createDimension('y', u_time_iso.shape[2]);\n",
    "bdy_file.createDimension('isot', u_time_iso.shape[1]);\n",
    "bdy_file.createDimension('time_counter', None);\n",
    "\n",
    "\n",
    "x = bdy_file.createVariable('x', 'int32', ('x',), zlib=True);\n",
    "x.units = 'indices';\n",
    "x.longname = 'x indices of NEP36';\n",
    "\n",
    "y = bdy_file.createVariable('y', 'int32', ('y',), zlib=True);\n",
    "y.units = 'indices';\n",
    "y.longname = 'y indices of NEP36';\n",
    "\n",
    "isot = bdy_file.createVariable('isot', 'float32', ('isot',), zlib=True);\n",
    "isot.units = 'm';\n",
    "isot.longname = 'Vertical isopycnal Levels';\n",
    "\n",
    "time_counter = bdy_file.createVariable('time_counter', 'int32', ('time_counter',), zlib=True);\n",
    "time_counter.units = 's';\n",
    "time_counter.longname = 'time';\n",
    "\n",
    "\n",
    "u_velocity = bdy_file.createVariable('u_velocity', 'float32', ('time_counter','isot', 'y', 'x'), zlib=True)\n",
    "v_velocity = bdy_file.createVariable('v_velocity', 'float32', ('time_counter','isot', 'y', 'x'), zlib=True)\n",
    "\n",
    "\n",
    "\n",
    "\n",
    "\n",
    "\n",
    "\n",
    "u_velocity[...] = u_time_iso[...];\n",
    "v_velocity[...] = v_time_iso[...];\n",
    "\n",
    "isot[...] = den[:];\n",
    "x[...] = x_wcvi_slice[:];\n",
    "y[...] = y_wcvi_slice[:];\n",
    "\n",
    "bdy_file.close()\n",
    "\n",
    "                                                                                                                                                                                        108,1         97%\n"
   ]
  }
 ],
 "metadata": {
  "anaconda-cloud": {},
  "kernelspec": {
   "display_name": "Python [conda root]",
   "language": "python",
   "name": "conda-root-py"
  },
  "language_info": {
   "codemirror_mode": {
    "name": "ipython",
    "version": 3
   },
   "file_extension": ".py",
   "mimetype": "text/x-python",
   "name": "python",
   "nbconvert_exporter": "python",
   "pygments_lexer": "ipython3",
   "version": "3.5.2"
  }
 },
 "nbformat": 4,
 "nbformat_minor": 1
}
