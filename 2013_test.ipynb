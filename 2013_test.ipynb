{
 "cells": [
  {
   "cell_type": "code",
   "execution_count": 1,
   "metadata": {
    "collapsed": false
   },
   "outputs": [
    {
     "name": "stderr",
     "output_type": "stream",
     "text": [
      "/home/ssahu/anaconda3/lib/python3.5/site-packages/xarray/conventions.py:9: FutureWarning: The pandas.tslib module is deprecated and will be removed in a future version.\n",
      "  from pandas.tslib import OutOfBoundsDatetime\n"
     ]
    }
   ],
   "source": [
    "\n",
    "# import matplotlib\n",
    "# matplotlib.use('TkAgg')\n",
    "from __future__ import division\n",
    "import matplotlib.pyplot as plt\n",
    "import numpy as np\n",
    "import netCDF4 as nc\n",
    "import os\n",
    "import glob\n",
    "import fnmatch\n",
    "from collections import namedtuple, OrderedDict\n",
    "import scipy.io as sio\n",
    "from scipy import interpolate, signal\n",
    "from pyproj import Proj,transform\n",
    "import sys\n",
    "sys.path.append('/ocean/ssahu/CANYONS/wcvi/grid/')\n",
    "from grid_alignment import calculate_initial_compass_bearing as cibc\n",
    "from bathy_common import *\n",
    "from matplotlib import path\n",
    "import xarray as xr\n",
    "import pandas as pd\n",
    "import scipy.io as sio\n",
    "import matplotlib.cm as cm\n",
    "import cmocean as cmo\n",
    "import matplotlib.gridspec as gridspec\n",
    "from dateutil.parser import parse\n",
    "from salishsea_tools import geo_tools, viz_tools, tidetools, nc_tools\n",
    "import gsw"
   ]
  },
  {
   "cell_type": "code",
   "execution_count": 2,
   "metadata": {
    "collapsed": true
   },
   "outputs": [],
   "source": [
    "path_to_save ='/data/ssahu/NEP36_Extracted_Months/' #'/home/ssahu/saurav/'\n",
    "\n",
    "\n",
    "bathy = nc.Dataset('/data/mdunphy/NEP036-N30-OUT/INV/Bathymetry_EastCoast_NEMO_R036_GEBCO_corr_v14.nc')\n",
    "\n",
    "Z = bathy.variables['Bathymetry'][:]\n",
    "\n",
    "zlevels = nc.Dataset('/data/mdunphy/NEP036-N30-OUT/CDF_COMB_COMPRESSED/NEP036-N30_IN_20140915_00001440_grid_T.nc').variables['deptht']\n",
    "\n",
    "lon = bathy['nav_lon'][...]\n",
    "lat = bathy['nav_lat'][...]\n",
    "\n",
    "z0 = np.ma.masked_values(Z, 0)\n",
    "\n",
    "y_wcvi_slice = np.array(np.arange(180,350))\n",
    "x_wcvi_slice = np.array(np.arange(480,650))"
   ]
  },
  {
   "cell_type": "code",
   "execution_count": 3,
   "metadata": {
    "collapsed": true
   },
   "outputs": [],
   "source": [
    "T_2013_file = nc.Dataset('/data/ssahu/NEP36_2013_summer_hindcast/cut_NEP36-S29_1d_20130429_20131025_grid_T_20130429-20130508.nc')"
   ]
  },
  {
   "cell_type": "code",
   "execution_count": 4,
   "metadata": {
    "collapsed": true
   },
   "outputs": [],
   "source": [
    "lon_corner = T_2013_file.variables['nav_lon'][0,0]\n",
    "lat_corner = T_2013_file.variables['nav_lat'][0,0]"
   ]
  },
  {
   "cell_type": "code",
   "execution_count": 7,
   "metadata": {
    "collapsed": false
   },
   "outputs": [
    {
     "name": "stdout",
     "output_type": "stream",
     "text": [
      "-128.857 47.3432\n"
     ]
    }
   ],
   "source": [
    "print(lon_corner, lat_corner)"
   ]
  },
  {
   "cell_type": "code",
   "execution_count": 8,
   "metadata": {
    "collapsed": false
   },
   "outputs": [
    {
     "name": "stdout",
     "output_type": "stream",
     "text": [
      "179 479\n"
     ]
    }
   ],
   "source": [
    "j, i = geo_tools.find_closest_model_point(lon_corner,lat_corner,\\\n",
    "                                          lon,lat,grid='NEMO',tols=\\\n",
    "                                          {'NEMO': {'tol_lon': 0.1, 'tol_lat': 0.1},\\\n",
    "                                           'GEM2.5': {'tol_lon': 0.1, 'tol_lat': 0.1}}) \n",
    "\n",
    "print(j,i)"
   ]
  },
  {
   "cell_type": "code",
   "execution_count": 9,
   "metadata": {
    "collapsed": true
   },
   "outputs": [],
   "source": [
    "def tem_sal_timeseries_at_WCVI_locations(grid_scalar):#, j, i):\n",
    "\n",
    "    temp = grid_scalar.variables['temp'][:, :, 1:, 1:]\n",
    "    sal =  grid_scalar.variables['salt'][:, :, 1:, 1:]\n",
    "    \n",
    "    scalar_ts = namedtuple('scalar_ts', 'temp, sal')\n",
    "\n",
    "    return scalar_ts(temp, sal)"
   ]
  },
  {
   "cell_type": "code",
   "execution_count": 11,
   "metadata": {
    "collapsed": false
   },
   "outputs": [],
   "source": [
    "scalar_ts = tem_sal_timeseries_at_WCVI_locations(T_2013_file)"
   ]
  },
  {
   "cell_type": "code",
   "execution_count": 14,
   "metadata": {
    "collapsed": false
   },
   "outputs": [
    {
     "data": {
      "text/plain": [
       "(10, 32, 170, 170)"
      ]
     },
     "execution_count": 14,
     "metadata": {},
     "output_type": "execute_result"
    }
   ],
   "source": [
    "scalar_ts[1].shape"
   ]
  },
  {
   "cell_type": "code",
   "execution_count": null,
   "metadata": {
    "collapsed": true
   },
   "outputs": [],
   "source": []
  },
  {
   "cell_type": "code",
   "execution_count": 18,
   "metadata": {
    "collapsed": false
   },
   "outputs": [],
   "source": [
    "temp = np.empty((180,32,y_wcvi_slice.shape[0],x_wcvi_slice.shape[0]))\n",
    "sal = np.empty((180,32,y_wcvi_slice.shape[0],x_wcvi_slice.shape[0]))\n",
    "\n",
    "\n",
    "i = 0\n",
    "for file in sorted(glob.glob('/data/ssahu/NEP36_2013_summer_hindcast/cut_NEP36-S29_1d_*_grid_T_*.nc')):\n",
    "\n",
    "    scalar_ts = tem_sal_timeseries_at_WCVI_locations(nc.Dataset(file))\n",
    "    temp[i:i+10,...] = scalar_ts[0]\n",
    "    sal[i:i+10,...] = scalar_ts[1]\n",
    "    i = i+10\n"
   ]
  },
  {
   "cell_type": "code",
   "execution_count": null,
   "metadata": {
    "collapsed": false
   },
   "outputs": [],
   "source": [
    "SA_loc = np.empty_like(sal)\n",
    "CT_loc = np.empty_like(sal)\n",
    "spic = np.empty_like(sal)\n",
    "rho = np.empty_like(sal)\n",
    "\n",
    "lat = T_2013_file.variables['nav_lat'][1:,1:]\n",
    "lon = T_2013_file.variables['nav_lon'][1:,1:]\n",
    "\n",
    "pressure_loc = gsw.p_from_z(-zlevels[:],np.mean(lat))\n",
    "\n",
    "for t in np.arange(sal.shape[0]):\n",
    "    for k in np.arange(sal.shape[1]):\n",
    "        for j in np.arange(sal.shape[2]):\n",
    "            for i in np.arange(sal.shape[3]):\n",
    "                SA_loc[t,k,j,i] = gsw.SA_from_SP(sal[t,k,j,i], pressure_loc[k], lon[j,i], lat[j,i])\n",
    "                CT_loc[t,k,j,i] = gsw.CT_from_pt(sal[t,k,j,i], temp[t,k,j,i])\n",
    "                spic[t,k,j,i] = gsw.spiciness0(SA_loc[t,k,j,i],CT_loc[t,k,j,i])\n",
    "#                rho_jun[t,k,j,i] = gsw.density.rho(SA_loc_jun[t,k,j,i], CT_loc_jun[t,k,j,i], pressure_loc[k])  \n",
    "                rho[t,k,j,i] = gsw.density.rho(SA_loc[t,k,j,i], CT_loc[t,k,j,i], 0)\n"
   ]
  },
  {
   "cell_type": "code",
   "execution_count": 17,
   "metadata": {
    "collapsed": false
   },
   "outputs": [
    {
     "data": {
      "text/plain": [
       "170"
      ]
     },
     "execution_count": 17,
     "metadata": {},
     "output_type": "execute_result"
    }
   ],
   "source": [
    "y_wcvi_slice.shape[0]"
   ]
  },
  {
   "cell_type": "code",
   "execution_count": null,
   "metadata": {
    "collapsed": true
   },
   "outputs": [],
   "source": []
  }
 ],
 "metadata": {
  "anaconda-cloud": {},
  "kernelspec": {
   "display_name": "Python [conda root]",
   "language": "python",
   "name": "conda-root-py"
  },
  "language_info": {
   "codemirror_mode": {
    "name": "ipython",
    "version": 3
   },
   "file_extension": ".py",
   "mimetype": "text/x-python",
   "name": "python",
   "nbconvert_exporter": "python",
   "pygments_lexer": "ipython3",
   "version": "3.5.2"
  }
 },
 "nbformat": 4,
 "nbformat_minor": 1
}
