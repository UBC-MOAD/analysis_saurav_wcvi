{
 "cells": [
  {
   "cell_type": "markdown",
   "metadata": {},
   "source": [
    "#### This notebook analyses the viscosity parameter for WCVI NEMO model. \n",
    "\n",
    "The runs with constant values of eddy laplacian viscosity are analysed at first and then the model is tested against the Smagorinksi viscosity which varies in our domain based on the relative sizes of the grid cells. \n",
    "\n",
    "\n",
    "#### Smagorinski is used only for lateral diffusion  of momentum (smag_coeff = 4)  whereas for tracers a constant laplacian diffusivity of 1000 is chosen and an eddy induced velocity coeffecient of 50"
   ]
  },
  {
   "cell_type": "code",
   "execution_count": 1,
   "metadata": {
    "collapsed": false
   },
   "outputs": [
    {
     "name": "stderr",
     "output_type": "stream",
     "text": [
      "/home/ssahu/anaconda3/lib/python3.5/site-packages/xarray/conventions.py:9: FutureWarning: The pandas.tslib module is deprecated and will be removed in a future version.\n",
      "  from pandas.tslib import OutOfBoundsDatetime\n"
     ]
    }
   ],
   "source": [
    "import matplotlib.pyplot as plt\n",
    "import numpy as np\n",
    "import numpy.ma as ma\n",
    "import netCDF4 as nc\n",
    "import cmocean.cm as cm \n",
    "from salishsea_tools import (\n",
    "        viz_tools,\n",
    "        nc_tools,\n",
    ")\n",
    "from IPython.display import display, Math, Latex\n",
    "%matplotlib inline"
   ]
  },
  {
   "cell_type": "markdown",
   "metadata": {},
   "source": [
    "### Question: When we are using a constant eddy viscosity where do the veloctites go to high values and what numbers do we get for the max velocity? \n",
    "\n",
    "To this extent we will analyse the 3 reduced viscosity runs (reduced from 1000)"
   ]
  },
  {
   "cell_type": "code",
   "execution_count": 3,
   "metadata": {
    "collapsed": true
   },
   "outputs": [],
   "source": [
    "\n",
    "\n",
    "visc_500_T = nc.Dataset('/ocean/ssahu/CANYONS/Results/NEMO_trial_viscosity/viscosity_500_30_day_run/WCVI_1h_20160402_20160509_grid_T.nc')\n",
    "visc_500_U = nc.Dataset('/ocean/ssahu/CANYONS/Results/NEMO_trial_viscosity/viscosity_500_30_day_run/WCVI_1h_20160402_20160509_grid_U.nc')\n",
    "visc_500_V = nc.Dataset('/ocean/ssahu/CANYONS/Results/NEMO_trial_viscosity/viscosity_500_30_day_run/WCVI_1h_20160402_20160509_grid_V.nc')\n",
    "\n",
    "visc_225_T = nc.Dataset('/ocean/ssahu/CANYONS/Results/NEMO_trial_viscosity/viscosity_225_30_day_run/WCVI_1h_20160402_20160509_grid_T.nc')\n",
    "visc_225_U = nc.Dataset('/ocean/ssahu/CANYONS/Results/NEMO_trial_viscosity/viscosity_225_30_day_run/WCVI_1h_20160402_20160509_grid_U.nc')\n",
    "visc_225_V = nc.Dataset('/ocean/ssahu/CANYONS/Results/NEMO_trial_viscosity/viscosity_225_30_day_run/WCVI_1h_20160402_20160509_grid_V.nc')\n",
    "\n",
    "visc_125_crash_T = nc.Dataset('/ocean/ssahu/CANYONS/Results/NEMO_trial_viscosity/viscosity_125/WCVI_1h_20160402_20160405_grid_T.nc')\n",
    "visc_125_crash_U = nc.Dataset('/ocean/ssahu/CANYONS/Results/NEMO_trial_viscosity/viscosity_125/WCVI_1h_20160402_20160405_grid_U.nc')\n",
    "visc_125_crash_V = nc.Dataset('/ocean/ssahu/CANYONS/Results/NEMO_trial_viscosity/viscosity_125/WCVI_1h_20160402_20160405_grid_V.nc')\n"
   ]
  },
  {
   "cell_type": "code",
   "execution_count": 18,
   "metadata": {
    "collapsed": false
   },
   "outputs": [
    {
     "name": "stdout",
     "output_type": "stream",
     "text": [
      "1.33322 0.0\n",
      "[257] [0] [97] [35]\n"
     ]
    }
   ],
   "source": [
    "U_vel_500 = visc_500_U.variables['vozocrtx'][:];\n",
    "V_vel_500 = visc_500_V.variables['vomecrty'][:];\n",
    "\n",
    "\n",
    "u_unstgg_500, v_unstagg_500 = viz_tools.unstagger(U_vel_500, V_vel_500)\n",
    "speed_500 = np.sqrt(np.square(u_unstgg_500) + np.square(u_unstgg_500))\n",
    "\n",
    "print(np.max(speed_500),np.min(speed_500))\n",
    "\n",
    "(t,z,y,x) = np.where(speed_500 == np.max(speed_500))\n",
    "\n",
    "print(t,z,y,x)"
   ]
  },
  {
   "cell_type": "markdown",
   "metadata": {},
   "source": [
    "### For the 500 run the max velocity (1.33 m/sec) were at the surface at (y,x) = (97,35)"
   ]
  },
  {
   "cell_type": "code",
   "execution_count": 19,
   "metadata": {
    "collapsed": false
   },
   "outputs": [
    {
     "name": "stdout",
     "output_type": "stream",
     "text": [
      "6.05275 0.0\n",
      "[39] [0] [97] [37]\n"
     ]
    }
   ],
   "source": [
    "U_vel_225 = visc_225_U.variables['vozocrtx'][:];\n",
    "V_vel_225 = visc_225_V.variables['vomecrty'][:];\n",
    "\n",
    "\n",
    "u_unstgg_225, v_unstagg_225 = viz_tools.unstagger(U_vel_225, V_vel_225)\n",
    "speed_225 = np.sqrt(np.square(u_unstgg_225) + np.square(u_unstgg_225))\n",
    "\n",
    "print(np.max(speed_225),np.min(speed_225))\n",
    "\n",
    "(t,z,y,x) = np.where(speed_225 == np.max(speed_225))\n",
    "\n",
    "print(t,z,y,x)"
   ]
  },
  {
   "cell_type": "markdown",
   "metadata": {},
   "source": [
    "### For the 225 run the max velocity (6.05 m/sec) were at the surface at (y,x) = (97,37)"
   ]
  },
  {
   "cell_type": "code",
   "execution_count": 21,
   "metadata": {
    "collapsed": false
   },
   "outputs": [
    {
     "name": "stdout",
     "output_type": "stream",
     "text": [
      "13.9753 0.0\n",
      "[59] [18] [82] [1]\n"
     ]
    }
   ],
   "source": [
    "U_vel_125 = visc_125_crash_U.variables['vozocrtx'][:];\n",
    "V_vel_125 = visc_125_crash_V.variables['vomecrty'][:];\n",
    "\n",
    "\n",
    "u_unstgg_125, v_unstagg_125 = viz_tools.unstagger(U_vel_125, V_vel_125)\n",
    "speed_125 = np.sqrt(np.square(u_unstgg_125) + np.square(u_unstgg_125))\n",
    "\n",
    "print(np.max(speed_125),np.min(speed_125))\n",
    "\n",
    "(t,z,y,x) = np.where(speed_125 == np.max(speed_125))\n",
    "\n",
    "print(t,z,y,x)"
   ]
  },
  {
   "cell_type": "markdown",
   "metadata": {},
   "source": [
    "### For the run crash of viscosity 125, the max velocities go to 13.9753 at the depth level 18 (out of 27) that too at the western boundary (to the top)"
   ]
  },
  {
   "cell_type": "code",
   "execution_count": 2,
   "metadata": {
    "collapsed": true
   },
   "outputs": [],
   "source": [
    "visc_smag_T = nc.Dataset('/ocean/ssahu/CANYONS/Results/NEMO_trial_viscosity/viscosity_eiv_50_smag_4_30_day_run/WCVI_1h_20160402_20160509_grid_T.nc')\n",
    "visc_smag_U = nc.Dataset('/ocean/ssahu/CANYONS/Results/NEMO_trial_viscosity/viscosity_eiv_50_smag_4_30_day_run/WCVI_1h_20160402_20160509_grid_U.nc')\n",
    "visc_smag_V = nc.Dataset('/ocean/ssahu/CANYONS/Results/NEMO_trial_viscosity/viscosity_eiv_50_smag_4_30_day_run/WCVI_1h_20160402_20160509_grid_V.nc')"
   ]
  },
  {
   "cell_type": "code",
   "execution_count": 3,
   "metadata": {
    "collapsed": false
   },
   "outputs": [
    {
     "name": "stdout",
     "output_type": "stream",
     "text": [
      "0.5515 0.0\n",
      "[138] [0] [39] [58]\n"
     ]
    }
   ],
   "source": [
    "U_vel_smag = visc_smag_U.variables['vozocrtx'][:];\n",
    "V_vel_smag = visc_smag_V.variables['vomecrty'][:];\n",
    "\n",
    "\n",
    "u_unstgg_smag, v_unstagg_smag = viz_tools.unstagger(U_vel_smag, V_vel_smag)\n",
    "speed_smag = np.sqrt(np.square(u_unstgg_smag) + np.square(u_unstgg_smag))\n",
    "\n",
    "print(np.max(speed_smag),np.min(speed_smag))\n",
    "\n",
    "(t,z,y,x) = np.where(speed_smag == np.max(speed_smag))\n",
    "\n",
    "print(t,z,y,x)"
   ]
  },
  {
   "cell_type": "markdown",
   "metadata": {},
   "source": [
    "#### The run with smagorinksi viscosity has max horizontal speeds (0.55 m/sec) and it occurs at the surface "
   ]
  },
  {
   "cell_type": "code",
   "execution_count": null,
   "metadata": {
    "collapsed": true
   },
   "outputs": [],
   "source": []
  }
 ],
 "metadata": {
  "anaconda-cloud": {},
  "kernelspec": {
   "display_name": "Python [conda root]",
   "language": "python",
   "name": "conda-root-py"
  },
  "language_info": {
   "codemirror_mode": {
    "name": "ipython",
    "version": 3
   },
   "file_extension": ".py",
   "mimetype": "text/x-python",
   "name": "python",
   "nbconvert_exporter": "python",
   "pygments_lexer": "ipython3",
   "version": "3.5.2"
  }
 },
 "nbformat": 4,
 "nbformat_minor": 1
}
